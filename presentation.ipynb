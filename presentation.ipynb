{
 "cells": [
  {
   "cell_type": "markdown",
   "id": "extended-radar",
   "metadata": {
    "slideshow": {
     "slide_type": "slide"
    }
   },
   "source": [
    "<div align=\"right\">\n",
    "<strong>Club de Python para Físicos</strong> - Sat 03/04/2021\n",
    "</div>\n",
    "\n",
    "# Manejo de datos n-dimensionales en python: *conociendo xarray*  \n",
    "\n",
    "<br>\n",
    "<div align=\"center\">\n",
    "    <img src=\"http://xarray.pydata.org/en/stable/_static/dataset-diagram-logo.png\">\n",
    "</div>\n",
    "<br>\n",
    "\n",
    "Gerardo Rivera Tello  \n",
    "*Asistente de Investigación*  \n",
    "*Instituto Geofísico del Perú*\n",
    "\n"
   ]
  },
  {
   "cell_type": "markdown",
   "id": "neither-extreme",
   "metadata": {
    "slideshow": {
     "slide_type": "slide"
    }
   },
   "source": [
    "## Temas a tratar"
   ]
  },
  {
   "cell_type": "markdown",
   "id": "fifty-serbia",
   "metadata": {
    "slideshow": {
     "slide_type": "fragment"
    }
   },
   "source": [
    "**1.** Ciencias del clima - especialmente oceanografía"
   ]
  },
  {
   "cell_type": "markdown",
   "id": "favorite-income",
   "metadata": {
    "slideshow": {
     "slide_type": "fragment"
    }
   },
   "source": [
    "**2.** I/O y análisis de datos - numpy + pandas -> xarray"
   ]
  },
  {
   "cell_type": "markdown",
   "id": "deluxe-serbia",
   "metadata": {
    "slideshow": {
     "slide_type": "fragment"
    }
   },
   "source": [
    "**3.** Escalando la computación - integraciones con dask"
   ]
  },
  {
   "cell_type": "markdown",
   "id": "front-venture",
   "metadata": {
    "slideshow": {
     "slide_type": "fragment"
    }
   },
   "source": [
    "**4.** El ecosistema Pangeo en python"
   ]
  },
  {
   "cell_type": "markdown",
   "id": "disturbed-cargo",
   "metadata": {
    "slideshow": {
     "slide_type": "slide"
    }
   },
   "source": [
    "### ¿Por qué Python?"
   ]
  },
  {
   "cell_type": "markdown",
   "id": "quantitative-target",
   "metadata": {
    "slideshow": {
     "slide_type": "fragment"
    }
   },
   "source": [
    "- Es flexible: permite la rápida iteración de ideas"
   ]
  },
  {
   "cell_type": "markdown",
   "id": "dangerous-block",
   "metadata": {
    "slideshow": {
     "slide_type": "fragment"
    }
   },
   "source": [
    "- Es open-source: crece conjuntamente con la comunidad"
   ]
  },
  {
   "cell_type": "markdown",
   "id": "agreed-preview",
   "metadata": {
    "slideshow": {
     "slide_type": "fragment"
    }
   },
   "source": [
    "- Es complejamente simple: ¿o simplemente complejo?"
   ]
  },
  {
   "cell_type": "markdown",
   "id": "automated-twins",
   "metadata": {
    "slideshow": {
     "slide_type": "fragment"
    }
   },
   "source": [
    "- Big data frameworks: en gran variedad"
   ]
  },
  {
   "cell_type": "markdown",
   "id": "similar-syracuse",
   "metadata": {
    "slideshow": {
     "slide_type": "slide"
    }
   },
   "source": [
    "## ¿Cómo se usa python en ciencias del clima?"
   ]
  },
  {
   "cell_type": "markdown",
   "id": "broadband-palmer",
   "metadata": {
    "slideshow": {
     "slide_type": "subslide"
    }
   },
   "source": [
    "**Modelamiento Numérico**  \n",
    "o interfaces a modelos numéricos\n",
    "\n"
   ]
  },
  {
   "cell_type": "markdown",
   "id": "external-asbestos",
   "metadata": {
    "slideshow": {
     "slide_type": "fragment"
    }
   },
   "source": [
    "- Climlab: https://climlab.readthedocs.io/en/latest/  \n",
    "- CliMT: https://climt.readthedocs.io/en/latest/  \n",
    "- PyCPT: https://iri.columbia.edu/our-expertise/climate/tools/cpt/  \n",
    "- Veros: https://veros.readthedocs.io/en/latest/  \n",
    "- xarray-simlab: https://xarray-simlab.readthedocs.io/en/latest/"
   ]
  },
  {
   "cell_type": "markdown",
   "id": "genuine-blade",
   "metadata": {
    "slideshow": {
     "slide_type": "subslide"
    }
   },
   "source": [
    "**Análisis de Datos**  \n",
    "o herramientas de I/O especializadas"
   ]
  },
  {
   "cell_type": "markdown",
   "id": "diverse-carroll",
   "metadata": {
    "slideshow": {
     "slide_type": "fragment"
    }
   },
   "source": [
    "- xarray: http://xarray.pydata.org/en/stable/  \n",
    "    - xgcm: https://xgcm.readthedocs.io/en/latest/  \n",
    "    - xmitgcm: https://xgcm.readthedocs.io/en/latest/  \n",
    "    - xESMF: https://pangeo-xesmf.readthedocs.io/en/latest/  \n",
    "    - y más: http://xarray.pydata.org/en/stable/related-projects.html  \n",
    "- climpred: https://climpred.readthedocs.io/en/stable/  \n",
    "- wrf-python: https://wrf-python.readthedocs.io/en/latest/\n",
    "- MetPy: https://unidata.github.io/MetPy/dev/index.html  \n",
    "- SatPy: https://satpy.readthedocs.io/en/stable/"
   ]
  },
  {
   "cell_type": "markdown",
   "id": "systematic-windsor",
   "metadata": {
    "slideshow": {
     "slide_type": "slide"
    }
   },
   "source": [
    "## Entrada y Salida de Datos"
   ]
  },
  {
   "cell_type": "markdown",
   "id": "convinced-valuable",
   "metadata": {
    "slideshow": {
     "slide_type": "subslide"
    }
   },
   "source": [
    "### ¿Cual es el mejor formato de almacenamiento de datos?"
   ]
  },
  {
   "cell_type": "markdown",
   "id": "artificial-trash",
   "metadata": {
    "slideshow": {
     "slide_type": "fragment"
    }
   },
   "source": [
    "<div style=\"font-size: 10px\">\n",
    "    <s> y ¿por qué es zarr? </s>\n",
    "</div>"
   ]
  },
  {
   "cell_type": "markdown",
   "id": "chinese-equality",
   "metadata": {
    "slideshow": {
     "slide_type": "fragment"
    }
   },
   "source": [
    "**Formatos más comunes**  \n",
    "\n",
    "<br>\n",
    "  \n",
    "| Datos Tabulares | Data Cubes | Otros tipos de formatos |\n",
    "| :-: | :-: | :-: |\n",
    "| txt (no necesariamente) | HDF5 | pickle (Python) |\n",
    "| CSV | NetCDF | npy (Numpy) |\n",
    "| XLSX | GRIB | TIFF/GeoTIFF |\n",
    "| parquet | zarr | - |"
   ]
  },
  {
   "cell_type": "markdown",
   "id": "amber-rating",
   "metadata": {
    "slideshow": {
     "slide_type": "slide"
    }
   },
   "source": [
    "### ¿Cómo podemos leer estos formatos?"
   ]
  },
  {
   "cell_type": "markdown",
   "id": "eligible-mystery",
   "metadata": {
    "slideshow": {
     "slide_type": "subslide"
    }
   },
   "source": [
    "<img src=\"https://numpy.org/doc/stable/_static/numpylogo.svg\" width=25%>\n",
    "\n",
    "Los datos que puedan ser representados como arreglos (o matrices) son bien manejados por numpy"
   ]
  },
  {
   "cell_type": "markdown",
   "id": "interstate-arrival",
   "metadata": {
    "slideshow": {
     "slide_type": "fragment"
    }
   },
   "source": [
    "Vamos a leer los datos del ONI obtenidos de la página de la NOAA, el cual tiene la siguiente estructura  \n",
    "\n",
    "<br>\n",
    "\n",
    "```\n",
    "year1 yearN\n",
    "year1 janval febval marval aprval mayval junval julval augval sepval octval novval decval\n",
    "year2 janval febval marval aprval mayval junval julval augval sepval octval novval decval\n",
    "...\n",
    "yearN janval febval marval aprval mayval junval julval augval sepval octval novval decval\n",
    "missing_value\n",
    "```"
   ]
  },
  {
   "cell_type": "markdown",
   "id": "applicable-glucose",
   "metadata": {
    "slideshow": {
     "slide_type": "subslide"
    }
   },
   "source": [
    "Con una simple inspección, podemos ver las lineas que debemos omitir para tener un arreglo correcto"
   ]
  },
  {
   "cell_type": "code",
   "execution_count": 1,
   "id": "curious-friend",
   "metadata": {
    "slideshow": {
     "slide_type": "-"
    }
   },
   "outputs": [
    {
     "name": "stdout",
     "output_type": "stream",
     "text": [
      "     0\t 1950         2021\r\n",
      "     1\t 1950  -1.53  -1.34  -1.16  -1.18  -1.07  -0.85  -0.54  -0.42  -0.39  -0.44  -0.60  -0.80\r\n",
      "     2\t 1951  -0.82  -0.54  -0.17   0.18   0.36   0.58   0.70   0.89   0.99   1.15   1.04   0.81\r\n",
      "     3\t 1952   0.53   0.37   0.34   0.29   0.20   0.00  -0.08   0.00   0.15   0.10   0.04   0.15\r\n",
      "     4\t 1953   0.40   0.60   0.63   0.66   0.75   0.77   0.75   0.73   0.78   0.84   0.84   0.81\r\n",
      "     5\t 1954   0.76   0.47  -0.05  -0.41  -0.54  -0.50  -0.64  -0.84  -0.90  -0.77  -0.73  -0.66\r\n",
      "     6\t 1955  -0.68  -0.62  -0.69  -0.80  -0.79  -0.72  -0.68  -0.75  -1.09  -1.42  -1.67  -1.47\r\n",
      "     7\t 1956  -1.11  -0.76  -0.63  -0.54  -0.52  -0.51  -0.57  -0.55  -0.46  -0.42  -0.43  -0.43\r\n",
      "     8\t 1957  -0.25   0.06   0.41   0.72   0.92   1.11   1.25   1.32   1.33   1.39   1.53   1.74\r\n",
      "     9\t 1958   1.81   1.66   1.27   0.93   0.74   0.64   0.57   0.43   0.39   0.44   0.50   0.61\r\n"
     ]
    }
   ],
   "source": [
    "!head data/oni.data | nl -v 0"
   ]
  },
  {
   "cell_type": "code",
   "execution_count": 2,
   "id": "biblical-origin",
   "metadata": {
    "scrolled": true
   },
   "outputs": [
    {
     "name": "stdout",
     "output_type": "stream",
     "text": [
      "    10\t 2020   0.50   0.48   0.40   0.19  -0.08  -0.30  -0.41  -0.57  -0.89  -1.17  -1.27  -1.19\r\n",
      "     9\t 2021  -1.06 -99.90 -99.90 -99.90 -99.90 -99.90 -99.90 -99.90 -99.90 -99.90 -99.90 -99.90\r\n",
      "     8\t  -99.9\r\n",
      "     7\t ONI from CPC\r\n",
      "     6\t  Provided by NOAA/PSL\r\n",
      "     5\t  From http://www.cpc.ncep.noaa.gov/data/indices/oni.ascii.txt\r\n",
      "     4\t As of 09/20/2015, uses NOAA ERSST V5 from V3\r\n",
      "     3\t represents 3 month running mean of ERSST.v5 SST\r\n",
      "     2\t anomalies in the Niño 3.4 region \r\n",
      "     1\t (5N-5oS, 120o-170oW)]\r\n"
     ]
    }
   ],
   "source": [
    "!tail data/oni.data | tac | nl | tac"
   ]
  },
  {
   "cell_type": "code",
   "execution_count": 3,
   "id": "southwest-legislature",
   "metadata": {},
   "outputs": [
    {
     "name": "stdout",
     "output_type": "stream",
     "text": [
      "81 data/oni.data\r\n"
     ]
    }
   ],
   "source": [
    "!wc -l data/oni.data"
   ]
  },
  {
   "cell_type": "markdown",
   "id": "corrected-earth",
   "metadata": {
    "slideshow": {
     "slide_type": "subslide"
    }
   },
   "source": [
    "Con la información recolectada, podemos leer estos datos pasando los parámetros correctos."
   ]
  },
  {
   "cell_type": "code",
   "execution_count": 4,
   "id": "invalid-sellers",
   "metadata": {
    "slideshow": {
     "slide_type": "-"
    }
   },
   "outputs": [
    {
     "data": {
      "text/plain": [
       "(72, 13)"
      ]
     },
     "execution_count": 4,
     "metadata": {},
     "output_type": "execute_result"
    }
   ],
   "source": [
    "import numpy as np\n",
    "\n",
    "ONI = np.loadtxt(\"data/oni.data\", skiprows=1, max_rows=72)\n",
    "ONI.shape"
   ]
  },
  {
   "cell_type": "markdown",
   "id": "professional-thesis",
   "metadata": {
    "slideshow": {
     "slide_type": "subslide"
    }
   },
   "source": [
    "Digamos que queremos seleccionar el valor del ONI para el año 2010 en el mes de Febrero.  \n",
    "\n",
    "**¿Cómo lo podemos hacer?**"
   ]
  },
  {
   "cell_type": "markdown",
   "id": "exceptional-bridges",
   "metadata": {
    "slideshow": {
     "slide_type": "fragment"
    }
   },
   "source": [
    "Indexing al rescate"
   ]
  },
  {
   "cell_type": "code",
   "execution_count": 5,
   "id": "favorite-thickness",
   "metadata": {},
   "outputs": [
    {
     "name": "stdout",
     "output_type": "stream",
     "text": [
      "[ 2.01e+03  1.50e+00  1.22e+00  8.40e-01  3.50e-01 -1.70e-01 -6.60e-01\n",
      " -1.05e+00 -1.35e+00 -1.56e+00 -1.64e+00 -1.64e+00 -1.59e+00]\n",
      "Year  2010.0\n"
     ]
    }
   ],
   "source": [
    "# El primer valor de cada fila es el año, asi que primero\n",
    "# debemos encontrar la fila donde 2010 sea el primer elemento\n",
    "\n",
    "print(ONI[60])  # no siempre se le atina a la primera\n",
    "print(\"Year \", ONI[60, 0])"
   ]
  },
  {
   "cell_type": "code",
   "execution_count": 6,
   "id": "agreed-updating",
   "metadata": {},
   "outputs": [
    {
     "data": {
      "text/plain": [
       "1.22"
      ]
     },
     "execution_count": 6,
     "metadata": {},
     "output_type": "execute_result"
    }
   ],
   "source": [
    "# Este es el valor que buscamos\n",
    "ONI[60, 2]"
   ]
  },
  {
   "cell_type": "markdown",
   "id": "geological-protection",
   "metadata": {
    "slideshow": {
     "slide_type": "subslide"
    }
   },
   "source": [
    "Usando `numpy` es necesario mantener un registro de las dimensiones y operaciones que realizamos para asegurarnos que se esté seleccionando el elemento correcto.  \n",
    "\n",
    "La especialidad de `numpy` en el manejo de arreglos n-dimensionales puede facilmente irse de control en arreglos más grandes al no tener un control explicito de las dimensiones con las que queremos trabajar."
   ]
  },
  {
   "cell_type": "markdown",
   "id": "revolutionary-indianapolis",
   "metadata": {
    "slideshow": {
     "slide_type": "slide"
    }
   },
   "source": [
    "**¿Existira una forma más facil de manejar esto?**"
   ]
  },
  {
   "cell_type": "markdown",
   "id": "acknowledged-statement",
   "metadata": {
    "slideshow": {
     "slide_type": "fragment"
    }
   },
   "source": [
    "La respuesta es <span style=\"font-size: 50px\">SI</span> <span style=\"font-size: 10px\"><s> y no </s></span>"
   ]
  },
  {
   "cell_type": "markdown",
   "id": "superior-application",
   "metadata": {
    "slideshow": {
     "slide_type": "fragment"
    }
   },
   "source": [
    "Todo depende de la estructura de los datos que queremos leer"
   ]
  },
  {
   "cell_type": "markdown",
   "id": "dominican-kitchen",
   "metadata": {
    "slideshow": {
     "slide_type": "slide"
    }
   },
   "source": [
    "<img src=\"https://pandas.pydata.org/docs/_static/pandas.svg\" width=25%>\n",
    "\n",
    "Los datos tabulares son muy bien manejados con pandas"
   ]
  },
  {
   "cell_type": "markdown",
   "id": "hundred-refund",
   "metadata": {
    "slideshow": {
     "slide_type": "fragment"
    }
   },
   "source": [
    "Como ejemplo, vamos a leer un archivo descargado de la red AERONET de la NASA, especificamente de la estación de Huancayo-IGP.\n",
    "\n",
    "Podemos explorar parte de la estructura usando el comando head en linux"
   ]
  },
  {
   "cell_type": "code",
   "execution_count": 7,
   "id": "specified-instruction",
   "metadata": {
    "scrolled": true,
    "slideshow": {
     "slide_type": "subslide"
    }
   },
   "outputs": [
    {
     "name": "stdout",
     "output_type": "stream",
     "text": [
      "     1\tAERONET Version 3; \r\n",
      "     2\tHuancayo-IGP\r\n",
      "     3\tVersion 3: AOD Level 2.0\r\n",
      "     4\tThe following data are automatically cloud cleared and quality assured with pre-field and post-field calibration applied.\r\n",
      "     5\tContact: PI=Yamina_Silva_Vidal; PI Email=fsilva@igp.gob.pe\r\n",
      "     6\tDaily Averages,UNITS can be found at,,, https://aeronet.gsfc.nasa.gov/new_web/units.html\r\n",
      "     7\tDate(dd:mm:yyyy),Time(hh:mm:ss),Day_of_Year,AOD_1640nm,AOD_1020nm,AOD_870nm,AOD_865nm,AOD_779nm,AOD_675nm,AOD_667nm,AOD_620nm,AOD_560nm,AOD_555nm,AOD_551nm,AOD_532nm,AOD_531nm,AOD_510nm,AOD_500nm,AOD_490nm,AOD_443nm,AOD_440nm,AOD_412nm,AOD_400nm,AOD_380nm,AOD_340nm,Precipitable_Water(cm),AOD_681nm,AOD_709nm,AOD_Empty,AOD_Empty,AOD_Empty,AOD_Empty,AOD_Empty,440-870_Angstrom_Exponent,380-500_Angstrom_Exponent,440-675_Angstrom_Exponent,500-870_Angstrom_Exponent,340-440_Angstrom_Exponent,440-675_Angstrom_Exponent[Polar],N[AOD_1640nm],N[AOD_1020nm],N[AOD_870nm],N[AOD_865nm],N[AOD_779nm],N[AOD_675nm],N[AOD_667nm],N[AOD_620nm],N[AOD_560nm],N[AOD_555nm],N[AOD_551nm],N[AOD_532nm],N[AOD_531nm],N[AOD_510nm],N[AOD_500nm],N[AOD_490nm],N[AOD_443nm],N[AOD_440nm],N[AOD_412nm],N[AOD_400nm],N[AOD_380nm],N[AOD_340nm],N[Precipitable_Water(cm)],N[AOD_681nm],N[AOD_709nm],N[AOD_Empty],N[AOD_Empty],N[AOD_Empty],N[AOD_Empty],N[AOD_Empty],N[440-870_Angstrom_Exponent],N[380-500_Angstrom_Exponent],N[440-675_Angstrom_Exponent],N[500-870_Angstrom_Exponent],N[340-440_Angstrom_Exponent],N[440-675_Angstrom_Exponent[Polar]],Data_Quality_Level,AERONET_Instrument_Number,AERONET_Site_Name,Site_Latitude(Degrees),Site_Longitude(Degrees),Site_Elevation(m)\r\n",
      "     8\t20:03:2015,12:00:00,79,0.018201,0.023610,0.025333,-999.,-999.,0.031682,-999.,-999.,-999.,-999.,-999.,-999.,-999.,-999.,0.047772,-999.,-999.,0.056059,-999.,-999.,0.074383,0.087858,1.268790,-999.,-999.,-999.,-999.,-999.,-999.,-999.,1.245531,1.641458,1.393531,1.215758,1.808468,-999.,32,32,32,0,0,32,0,0,0,0,0,0,0,0,32,0,0,32,0,0,32,32,32,0,0,0,0,0,0,0,32,32,32,32,32,0,lev20,890,Huancayo-IGP,-12.040200,-75.320900,3313.000000\r\n",
      "     9\t21:03:2015,12:00:00,80,0.004776,0.012473,0.013893,-999.,-999.,0.020682,-999.,-999.,-999.,-999.,-999.,-999.,-999.,-999.,0.036869,-999.,-999.,0.044473,-999.,-999.,0.059118,0.071017,1.314858,-999.,-999.,-999.,-999.,-999.,-999.,-999.,1.741680,1.705673,1.812615,1.770809,1.838964,-999.,1,1,1,0,0,1,0,0,0,0,0,0,0,0,1,0,0,1,0,0,1,1,1,0,0,0,0,0,0,0,1,1,1,1,1,0,lev20,890,Huancayo-IGP,-12.040200,-75.320900,3313.000000\r\n",
      "    10\t22:03:2015,12:00:00,81,0.008359,0.012901,0.012335,-999.,-999.,0.015436,-999.,-999.,-999.,-999.,-999.,-999.,-999.,-999.,0.023698,-999.,-999.,0.027255,-999.,-999.,0.039261,0.047811,1.254088,-999.,-999.,-999.,-999.,-999.,-999.,-999.,1.218209,1.903330,1.375605,1.203290,2.286162,-999.,4,4,4,0,0,4,0,0,0,0,0,0,0,0,4,0,0,4,0,0,4,4,4,0,0,0,0,0,0,0,4,4,4,4,4,0,lev20,890,Huancayo-IGP,-12.040200,-75.320900,3313.000000\r\n"
     ]
    }
   ],
   "source": [
    "!head data/20150101_20211231_Huancayo-IGP.lev20 | nl"
   ]
  },
  {
   "cell_type": "markdown",
   "id": "failing-daughter",
   "metadata": {
    "slideshow": {
     "slide_type": "subslide"
    }
   },
   "source": [
    "Los datos tabulares se almacenan de diferentes formas, por ello es bueno conocer parte de la estructura para obtener el resultado deseado."
   ]
  },
  {
   "cell_type": "code",
   "execution_count": 8,
   "id": "narrow-register",
   "metadata": {
    "scrolled": true,
    "slideshow": {
     "slide_type": "fragment"
    }
   },
   "outputs": [
    {
     "data": {
      "text/html": [
       "<div>\n",
       "<style scoped>\n",
       "    .dataframe tbody tr th:only-of-type {\n",
       "        vertical-align: middle;\n",
       "    }\n",
       "\n",
       "    .dataframe tbody tr th {\n",
       "        vertical-align: top;\n",
       "    }\n",
       "\n",
       "    .dataframe thead th {\n",
       "        text-align: right;\n",
       "    }\n",
       "</style>\n",
       "<table border=\"1\" class=\"dataframe\">\n",
       "  <thead>\n",
       "    <tr style=\"text-align: right;\">\n",
       "      <th></th>\n",
       "      <th>Date(dd:mm:yyyy)</th>\n",
       "      <th>Time(hh:mm:ss)</th>\n",
       "      <th>Day_of_Year</th>\n",
       "      <th>AOD_1640nm</th>\n",
       "      <th>AOD_1020nm</th>\n",
       "      <th>AOD_870nm</th>\n",
       "      <th>AOD_865nm</th>\n",
       "      <th>AOD_779nm</th>\n",
       "      <th>AOD_675nm</th>\n",
       "      <th>AOD_667nm</th>\n",
       "      <th>...</th>\n",
       "      <th>N[440-675_Angstrom_Exponent]</th>\n",
       "      <th>N[500-870_Angstrom_Exponent]</th>\n",
       "      <th>N[340-440_Angstrom_Exponent]</th>\n",
       "      <th>N[440-675_Angstrom_Exponent[Polar]]</th>\n",
       "      <th>Data_Quality_Level</th>\n",
       "      <th>AERONET_Instrument_Number</th>\n",
       "      <th>AERONET_Site_Name</th>\n",
       "      <th>Site_Latitude(Degrees)</th>\n",
       "      <th>Site_Longitude(Degrees)</th>\n",
       "      <th>Site_Elevation(m)</th>\n",
       "    </tr>\n",
       "  </thead>\n",
       "  <tbody>\n",
       "    <tr>\n",
       "      <th>0</th>\n",
       "      <td>20:03:2015</td>\n",
       "      <td>12:00:00</td>\n",
       "      <td>79</td>\n",
       "      <td>0.018201</td>\n",
       "      <td>0.023610</td>\n",
       "      <td>0.025333</td>\n",
       "      <td>-999.0</td>\n",
       "      <td>-999.0</td>\n",
       "      <td>0.031682</td>\n",
       "      <td>-999.0</td>\n",
       "      <td>...</td>\n",
       "      <td>32</td>\n",
       "      <td>32</td>\n",
       "      <td>32</td>\n",
       "      <td>0</td>\n",
       "      <td>lev20</td>\n",
       "      <td>890</td>\n",
       "      <td>Huancayo-IGP</td>\n",
       "      <td>-12.0402</td>\n",
       "      <td>-75.3209</td>\n",
       "      <td>3313.0</td>\n",
       "    </tr>\n",
       "    <tr>\n",
       "      <th>1</th>\n",
       "      <td>21:03:2015</td>\n",
       "      <td>12:00:00</td>\n",
       "      <td>80</td>\n",
       "      <td>0.004776</td>\n",
       "      <td>0.012473</td>\n",
       "      <td>0.013893</td>\n",
       "      <td>-999.0</td>\n",
       "      <td>-999.0</td>\n",
       "      <td>0.020682</td>\n",
       "      <td>-999.0</td>\n",
       "      <td>...</td>\n",
       "      <td>1</td>\n",
       "      <td>1</td>\n",
       "      <td>1</td>\n",
       "      <td>0</td>\n",
       "      <td>lev20</td>\n",
       "      <td>890</td>\n",
       "      <td>Huancayo-IGP</td>\n",
       "      <td>-12.0402</td>\n",
       "      <td>-75.3209</td>\n",
       "      <td>3313.0</td>\n",
       "    </tr>\n",
       "    <tr>\n",
       "      <th>2</th>\n",
       "      <td>22:03:2015</td>\n",
       "      <td>12:00:00</td>\n",
       "      <td>81</td>\n",
       "      <td>0.008359</td>\n",
       "      <td>0.012901</td>\n",
       "      <td>0.012335</td>\n",
       "      <td>-999.0</td>\n",
       "      <td>-999.0</td>\n",
       "      <td>0.015436</td>\n",
       "      <td>-999.0</td>\n",
       "      <td>...</td>\n",
       "      <td>4</td>\n",
       "      <td>4</td>\n",
       "      <td>4</td>\n",
       "      <td>0</td>\n",
       "      <td>lev20</td>\n",
       "      <td>890</td>\n",
       "      <td>Huancayo-IGP</td>\n",
       "      <td>-12.0402</td>\n",
       "      <td>-75.3209</td>\n",
       "      <td>3313.0</td>\n",
       "    </tr>\n",
       "    <tr>\n",
       "      <th>3</th>\n",
       "      <td>23:03:2015</td>\n",
       "      <td>12:00:00</td>\n",
       "      <td>82</td>\n",
       "      <td>0.011493</td>\n",
       "      <td>0.019424</td>\n",
       "      <td>0.018699</td>\n",
       "      <td>-999.0</td>\n",
       "      <td>-999.0</td>\n",
       "      <td>0.025666</td>\n",
       "      <td>-999.0</td>\n",
       "      <td>...</td>\n",
       "      <td>8</td>\n",
       "      <td>8</td>\n",
       "      <td>8</td>\n",
       "      <td>0</td>\n",
       "      <td>lev20</td>\n",
       "      <td>890</td>\n",
       "      <td>Huancayo-IGP</td>\n",
       "      <td>-12.0402</td>\n",
       "      <td>-75.3209</td>\n",
       "      <td>3313.0</td>\n",
       "    </tr>\n",
       "    <tr>\n",
       "      <th>4</th>\n",
       "      <td>24:03:2015</td>\n",
       "      <td>12:00:00</td>\n",
       "      <td>83</td>\n",
       "      <td>0.007365</td>\n",
       "      <td>0.011363</td>\n",
       "      <td>0.011387</td>\n",
       "      <td>-999.0</td>\n",
       "      <td>-999.0</td>\n",
       "      <td>0.014973</td>\n",
       "      <td>-999.0</td>\n",
       "      <td>...</td>\n",
       "      <td>68</td>\n",
       "      <td>68</td>\n",
       "      <td>68</td>\n",
       "      <td>0</td>\n",
       "      <td>lev20</td>\n",
       "      <td>890</td>\n",
       "      <td>Huancayo-IGP</td>\n",
       "      <td>-12.0402</td>\n",
       "      <td>-75.3209</td>\n",
       "      <td>3313.0</td>\n",
       "    </tr>\n",
       "  </tbody>\n",
       "</table>\n",
       "<p>5 rows × 81 columns</p>\n",
       "</div>"
      ],
      "text/plain": [
       "  Date(dd:mm:yyyy) Time(hh:mm:ss)  Day_of_Year  AOD_1640nm  AOD_1020nm  \\\n",
       "0       20:03:2015       12:00:00           79    0.018201    0.023610   \n",
       "1       21:03:2015       12:00:00           80    0.004776    0.012473   \n",
       "2       22:03:2015       12:00:00           81    0.008359    0.012901   \n",
       "3       23:03:2015       12:00:00           82    0.011493    0.019424   \n",
       "4       24:03:2015       12:00:00           83    0.007365    0.011363   \n",
       "\n",
       "   AOD_870nm  AOD_865nm  AOD_779nm  AOD_675nm  AOD_667nm  ...  \\\n",
       "0   0.025333     -999.0     -999.0   0.031682     -999.0  ...   \n",
       "1   0.013893     -999.0     -999.0   0.020682     -999.0  ...   \n",
       "2   0.012335     -999.0     -999.0   0.015436     -999.0  ...   \n",
       "3   0.018699     -999.0     -999.0   0.025666     -999.0  ...   \n",
       "4   0.011387     -999.0     -999.0   0.014973     -999.0  ...   \n",
       "\n",
       "   N[440-675_Angstrom_Exponent]  N[500-870_Angstrom_Exponent]  \\\n",
       "0                            32                            32   \n",
       "1                             1                             1   \n",
       "2                             4                             4   \n",
       "3                             8                             8   \n",
       "4                            68                            68   \n",
       "\n",
       "   N[340-440_Angstrom_Exponent]  N[440-675_Angstrom_Exponent[Polar]]  \\\n",
       "0                            32                                    0   \n",
       "1                             1                                    0   \n",
       "2                             4                                    0   \n",
       "3                             8                                    0   \n",
       "4                            68                                    0   \n",
       "\n",
       "   Data_Quality_Level  AERONET_Instrument_Number  AERONET_Site_Name  \\\n",
       "0               lev20                        890       Huancayo-IGP   \n",
       "1               lev20                        890       Huancayo-IGP   \n",
       "2               lev20                        890       Huancayo-IGP   \n",
       "3               lev20                        890       Huancayo-IGP   \n",
       "4               lev20                        890       Huancayo-IGP   \n",
       "\n",
       "   Site_Latitude(Degrees)  Site_Longitude(Degrees)  Site_Elevation(m)  \n",
       "0                -12.0402                 -75.3209             3313.0  \n",
       "1                -12.0402                 -75.3209             3313.0  \n",
       "2                -12.0402                 -75.3209             3313.0  \n",
       "3                -12.0402                 -75.3209             3313.0  \n",
       "4                -12.0402                 -75.3209             3313.0  \n",
       "\n",
       "[5 rows x 81 columns]"
      ]
     },
     "execution_count": 8,
     "metadata": {},
     "output_type": "execute_result"
    }
   ],
   "source": [
    "import pandas as pd\n",
    "\n",
    "aeronet = pd.read_csv(\"data/20150101_20211231_Huancayo-IGP.lev20\", skiprows=6)\n",
    "aeronet.head()"
   ]
  },
  {
   "cell_type": "markdown",
   "id": "ranging-motion",
   "metadata": {
    "slideshow": {
     "slide_type": "subslide"
    }
   },
   "source": [
    "A veces se necesitan realizar algunos ajustes para trabajar con los datos de la forma que queremos, como por ejemplo, las fechas"
   ]
  },
  {
   "cell_type": "code",
   "execution_count": 9,
   "id": "delayed-royal",
   "metadata": {},
   "outputs": [
    {
     "data": {
      "text/plain": [
       "Date(dd:mm:yyyy)              object\n",
       "Time(hh:mm:ss)                object\n",
       "Day_of_Year                    int64\n",
       "AOD_1640nm                   float64\n",
       "AOD_1020nm                   float64\n",
       "                              ...   \n",
       "AERONET_Instrument_Number      int64\n",
       "AERONET_Site_Name             object\n",
       "Site_Latitude(Degrees)       float64\n",
       "Site_Longitude(Degrees)      float64\n",
       "Site_Elevation(m)            float64\n",
       "Length: 81, dtype: object"
      ]
     },
     "execution_count": 9,
     "metadata": {},
     "output_type": "execute_result"
    }
   ],
   "source": [
    "aeronet.dtypes"
   ]
  },
  {
   "cell_type": "code",
   "execution_count": 10,
   "id": "objective-annotation",
   "metadata": {},
   "outputs": [
    {
     "data": {
      "text/plain": [
       "('Date(dd:mm:yyyy)', '20:03:2015', str)"
      ]
     },
     "execution_count": 10,
     "metadata": {},
     "output_type": "execute_result"
    }
   ],
   "source": [
    "aeronet.columns[0], aeronet.iloc[:, 0][0], type(aeronet.iloc[:, 0][0])"
   ]
  },
  {
   "cell_type": "markdown",
   "id": "verified-smoke",
   "metadata": {
    "slideshow": {
     "slide_type": "subslide"
    }
   },
   "source": [
    "Una solución a nuestras fechas podría ser aplicada al momento de la lectura de los datos."
   ]
  },
  {
   "cell_type": "code",
   "execution_count": 11,
   "id": "sealed-corruption",
   "metadata": {
    "scrolled": true,
    "slideshow": {
     "slide_type": "fragment"
    }
   },
   "outputs": [
    {
     "data": {
      "text/html": [
       "<div>\n",
       "<style scoped>\n",
       "    .dataframe tbody tr th:only-of-type {\n",
       "        vertical-align: middle;\n",
       "    }\n",
       "\n",
       "    .dataframe tbody tr th {\n",
       "        vertical-align: top;\n",
       "    }\n",
       "\n",
       "    .dataframe thead th {\n",
       "        text-align: right;\n",
       "    }\n",
       "</style>\n",
       "<table border=\"1\" class=\"dataframe\">\n",
       "  <thead>\n",
       "    <tr style=\"text-align: right;\">\n",
       "      <th></th>\n",
       "      <th>Date</th>\n",
       "      <th>Day_of_Year</th>\n",
       "      <th>AOD_1640nm</th>\n",
       "      <th>AOD_1020nm</th>\n",
       "      <th>AOD_870nm</th>\n",
       "      <th>AOD_865nm</th>\n",
       "      <th>AOD_779nm</th>\n",
       "      <th>AOD_675nm</th>\n",
       "      <th>AOD_667nm</th>\n",
       "      <th>AOD_620nm</th>\n",
       "      <th>...</th>\n",
       "      <th>N[440-675_Angstrom_Exponent]</th>\n",
       "      <th>N[500-870_Angstrom_Exponent]</th>\n",
       "      <th>N[340-440_Angstrom_Exponent]</th>\n",
       "      <th>N[440-675_Angstrom_Exponent[Polar]]</th>\n",
       "      <th>Data_Quality_Level</th>\n",
       "      <th>AERONET_Instrument_Number</th>\n",
       "      <th>AERONET_Site_Name</th>\n",
       "      <th>Site_Latitude(Degrees)</th>\n",
       "      <th>Site_Longitude(Degrees)</th>\n",
       "      <th>Site_Elevation(m)</th>\n",
       "    </tr>\n",
       "  </thead>\n",
       "  <tbody>\n",
       "    <tr>\n",
       "      <th>0</th>\n",
       "      <td>2015-03-20 12:00:00</td>\n",
       "      <td>79</td>\n",
       "      <td>0.018201</td>\n",
       "      <td>0.023610</td>\n",
       "      <td>0.025333</td>\n",
       "      <td>-999.0</td>\n",
       "      <td>-999.0</td>\n",
       "      <td>0.031682</td>\n",
       "      <td>-999.0</td>\n",
       "      <td>-999.0</td>\n",
       "      <td>...</td>\n",
       "      <td>32</td>\n",
       "      <td>32</td>\n",
       "      <td>32</td>\n",
       "      <td>0</td>\n",
       "      <td>lev20</td>\n",
       "      <td>890</td>\n",
       "      <td>Huancayo-IGP</td>\n",
       "      <td>-12.0402</td>\n",
       "      <td>-75.3209</td>\n",
       "      <td>3313.0</td>\n",
       "    </tr>\n",
       "    <tr>\n",
       "      <th>1</th>\n",
       "      <td>2015-03-21 12:00:00</td>\n",
       "      <td>80</td>\n",
       "      <td>0.004776</td>\n",
       "      <td>0.012473</td>\n",
       "      <td>0.013893</td>\n",
       "      <td>-999.0</td>\n",
       "      <td>-999.0</td>\n",
       "      <td>0.020682</td>\n",
       "      <td>-999.0</td>\n",
       "      <td>-999.0</td>\n",
       "      <td>...</td>\n",
       "      <td>1</td>\n",
       "      <td>1</td>\n",
       "      <td>1</td>\n",
       "      <td>0</td>\n",
       "      <td>lev20</td>\n",
       "      <td>890</td>\n",
       "      <td>Huancayo-IGP</td>\n",
       "      <td>-12.0402</td>\n",
       "      <td>-75.3209</td>\n",
       "      <td>3313.0</td>\n",
       "    </tr>\n",
       "    <tr>\n",
       "      <th>2</th>\n",
       "      <td>2015-03-22 12:00:00</td>\n",
       "      <td>81</td>\n",
       "      <td>0.008359</td>\n",
       "      <td>0.012901</td>\n",
       "      <td>0.012335</td>\n",
       "      <td>-999.0</td>\n",
       "      <td>-999.0</td>\n",
       "      <td>0.015436</td>\n",
       "      <td>-999.0</td>\n",
       "      <td>-999.0</td>\n",
       "      <td>...</td>\n",
       "      <td>4</td>\n",
       "      <td>4</td>\n",
       "      <td>4</td>\n",
       "      <td>0</td>\n",
       "      <td>lev20</td>\n",
       "      <td>890</td>\n",
       "      <td>Huancayo-IGP</td>\n",
       "      <td>-12.0402</td>\n",
       "      <td>-75.3209</td>\n",
       "      <td>3313.0</td>\n",
       "    </tr>\n",
       "    <tr>\n",
       "      <th>3</th>\n",
       "      <td>2015-03-23 12:00:00</td>\n",
       "      <td>82</td>\n",
       "      <td>0.011493</td>\n",
       "      <td>0.019424</td>\n",
       "      <td>0.018699</td>\n",
       "      <td>-999.0</td>\n",
       "      <td>-999.0</td>\n",
       "      <td>0.025666</td>\n",
       "      <td>-999.0</td>\n",
       "      <td>-999.0</td>\n",
       "      <td>...</td>\n",
       "      <td>8</td>\n",
       "      <td>8</td>\n",
       "      <td>8</td>\n",
       "      <td>0</td>\n",
       "      <td>lev20</td>\n",
       "      <td>890</td>\n",
       "      <td>Huancayo-IGP</td>\n",
       "      <td>-12.0402</td>\n",
       "      <td>-75.3209</td>\n",
       "      <td>3313.0</td>\n",
       "    </tr>\n",
       "    <tr>\n",
       "      <th>4</th>\n",
       "      <td>2015-03-24 12:00:00</td>\n",
       "      <td>83</td>\n",
       "      <td>0.007365</td>\n",
       "      <td>0.011363</td>\n",
       "      <td>0.011387</td>\n",
       "      <td>-999.0</td>\n",
       "      <td>-999.0</td>\n",
       "      <td>0.014973</td>\n",
       "      <td>-999.0</td>\n",
       "      <td>-999.0</td>\n",
       "      <td>...</td>\n",
       "      <td>68</td>\n",
       "      <td>68</td>\n",
       "      <td>68</td>\n",
       "      <td>0</td>\n",
       "      <td>lev20</td>\n",
       "      <td>890</td>\n",
       "      <td>Huancayo-IGP</td>\n",
       "      <td>-12.0402</td>\n",
       "      <td>-75.3209</td>\n",
       "      <td>3313.0</td>\n",
       "    </tr>\n",
       "  </tbody>\n",
       "</table>\n",
       "<p>5 rows × 80 columns</p>\n",
       "</div>"
      ],
      "text/plain": [
       "                 Date  Day_of_Year  AOD_1640nm  AOD_1020nm  AOD_870nm  \\\n",
       "0 2015-03-20 12:00:00           79    0.018201    0.023610   0.025333   \n",
       "1 2015-03-21 12:00:00           80    0.004776    0.012473   0.013893   \n",
       "2 2015-03-22 12:00:00           81    0.008359    0.012901   0.012335   \n",
       "3 2015-03-23 12:00:00           82    0.011493    0.019424   0.018699   \n",
       "4 2015-03-24 12:00:00           83    0.007365    0.011363   0.011387   \n",
       "\n",
       "   AOD_865nm  AOD_779nm  AOD_675nm  AOD_667nm  AOD_620nm  ...  \\\n",
       "0     -999.0     -999.0   0.031682     -999.0     -999.0  ...   \n",
       "1     -999.0     -999.0   0.020682     -999.0     -999.0  ...   \n",
       "2     -999.0     -999.0   0.015436     -999.0     -999.0  ...   \n",
       "3     -999.0     -999.0   0.025666     -999.0     -999.0  ...   \n",
       "4     -999.0     -999.0   0.014973     -999.0     -999.0  ...   \n",
       "\n",
       "   N[440-675_Angstrom_Exponent]  N[500-870_Angstrom_Exponent]  \\\n",
       "0                            32                            32   \n",
       "1                             1                             1   \n",
       "2                             4                             4   \n",
       "3                             8                             8   \n",
       "4                            68                            68   \n",
       "\n",
       "   N[340-440_Angstrom_Exponent]  N[440-675_Angstrom_Exponent[Polar]]  \\\n",
       "0                            32                                    0   \n",
       "1                             1                                    0   \n",
       "2                             4                                    0   \n",
       "3                             8                                    0   \n",
       "4                            68                                    0   \n",
       "\n",
       "   Data_Quality_Level  AERONET_Instrument_Number  AERONET_Site_Name  \\\n",
       "0               lev20                        890       Huancayo-IGP   \n",
       "1               lev20                        890       Huancayo-IGP   \n",
       "2               lev20                        890       Huancayo-IGP   \n",
       "3               lev20                        890       Huancayo-IGP   \n",
       "4               lev20                        890       Huancayo-IGP   \n",
       "\n",
       "   Site_Latitude(Degrees)  Site_Longitude(Degrees)  Site_Elevation(m)  \n",
       "0                -12.0402                 -75.3209             3313.0  \n",
       "1                -12.0402                 -75.3209             3313.0  \n",
       "2                -12.0402                 -75.3209             3313.0  \n",
       "3                -12.0402                 -75.3209             3313.0  \n",
       "4                -12.0402                 -75.3209             3313.0  \n",
       "\n",
       "[5 rows x 80 columns]"
      ]
     },
     "execution_count": 11,
     "metadata": {},
     "output_type": "execute_result"
    }
   ],
   "source": [
    "aeronet = pd.read_csv(\n",
    "    \"data/20150101_20211231_Huancayo-IGP.lev20\",\n",
    "    skiprows=6,\n",
    "    parse_dates=[[0, 1]],\n",
    "    date_parser=lambda x: pd.to_datetime(x, format=\"%d:%m:%Y %X\"),\n",
    ")\n",
    "aeronet.rename(columns={aeronet.columns[0]: \"Date\"}, inplace=True)\n",
    "aeronet.head()"
   ]
  },
  {
   "cell_type": "markdown",
   "id": "powerful-insertion",
   "metadata": {
    "slideshow": {
     "slide_type": "subslide"
    }
   },
   "source": [
    "Verificando"
   ]
  },
  {
   "cell_type": "code",
   "execution_count": 12,
   "id": "enormous-powell",
   "metadata": {
    "slideshow": {
     "slide_type": "-"
    }
   },
   "outputs": [
    {
     "data": {
      "text/plain": [
       "Date                         datetime64[ns]\n",
       "Day_of_Year                           int64\n",
       "AOD_1640nm                          float64\n",
       "AOD_1020nm                          float64\n",
       "AOD_870nm                           float64\n",
       "                                  ...      \n",
       "AERONET_Instrument_Number             int64\n",
       "AERONET_Site_Name                    object\n",
       "Site_Latitude(Degrees)              float64\n",
       "Site_Longitude(Degrees)             float64\n",
       "Site_Elevation(m)                   float64\n",
       "Length: 80, dtype: object"
      ]
     },
     "execution_count": 12,
     "metadata": {},
     "output_type": "execute_result"
    }
   ],
   "source": [
    "aeronet.dtypes"
   ]
  },
  {
   "cell_type": "code",
   "execution_count": 13,
   "id": "advisory-cooling",
   "metadata": {
    "scrolled": true
   },
   "outputs": [
    {
     "data": {
      "text/plain": [
       "('Date',\n",
       " Timestamp('2015-03-20 12:00:00'),\n",
       " pandas._libs.tslibs.timestamps.Timestamp)"
      ]
     },
     "execution_count": 13,
     "metadata": {},
     "output_type": "execute_result"
    }
   ],
   "source": [
    "aeronet.columns[0], aeronet.iloc[:, 0][0], type(aeronet.iloc[:, 0][0])"
   ]
  },
  {
   "cell_type": "markdown",
   "id": "worldwide-attention",
   "metadata": {
    "slideshow": {
     "slide_type": "subslide"
    }
   },
   "source": [
    "Digamos que queremos seleccionar los datos del 15 de enero del 2017. Para eso, pandas tiene sus propios métodos de selección que facilitan dicha tarea."
   ]
  },
  {
   "cell_type": "code",
   "execution_count": 14,
   "id": "involved-sauce",
   "metadata": {},
   "outputs": [
    {
     "data": {
      "text/html": [
       "<div>\n",
       "<style scoped>\n",
       "    .dataframe tbody tr th:only-of-type {\n",
       "        vertical-align: middle;\n",
       "    }\n",
       "\n",
       "    .dataframe tbody tr th {\n",
       "        vertical-align: top;\n",
       "    }\n",
       "\n",
       "    .dataframe thead th {\n",
       "        text-align: right;\n",
       "    }\n",
       "</style>\n",
       "<table border=\"1\" class=\"dataframe\">\n",
       "  <thead>\n",
       "    <tr style=\"text-align: right;\">\n",
       "      <th></th>\n",
       "      <th>Date</th>\n",
       "      <th>Day_of_Year</th>\n",
       "      <th>AOD_1640nm</th>\n",
       "      <th>AOD_1020nm</th>\n",
       "      <th>AOD_870nm</th>\n",
       "      <th>AOD_865nm</th>\n",
       "      <th>AOD_779nm</th>\n",
       "      <th>AOD_675nm</th>\n",
       "      <th>AOD_667nm</th>\n",
       "      <th>AOD_620nm</th>\n",
       "      <th>...</th>\n",
       "      <th>N[440-675_Angstrom_Exponent]</th>\n",
       "      <th>N[500-870_Angstrom_Exponent]</th>\n",
       "      <th>N[340-440_Angstrom_Exponent]</th>\n",
       "      <th>N[440-675_Angstrom_Exponent[Polar]]</th>\n",
       "      <th>Data_Quality_Level</th>\n",
       "      <th>AERONET_Instrument_Number</th>\n",
       "      <th>AERONET_Site_Name</th>\n",
       "      <th>Site_Latitude(Degrees)</th>\n",
       "      <th>Site_Longitude(Degrees)</th>\n",
       "      <th>Site_Elevation(m)</th>\n",
       "    </tr>\n",
       "  </thead>\n",
       "  <tbody>\n",
       "    <tr>\n",
       "      <th>586</th>\n",
       "      <td>2017-01-15 12:00:00</td>\n",
       "      <td>15</td>\n",
       "      <td>0.016485</td>\n",
       "      <td>0.023729</td>\n",
       "      <td>0.026584</td>\n",
       "      <td>-999.0</td>\n",
       "      <td>-999.0</td>\n",
       "      <td>0.031273</td>\n",
       "      <td>-999.0</td>\n",
       "      <td>-999.0</td>\n",
       "      <td>...</td>\n",
       "      <td>38</td>\n",
       "      <td>38</td>\n",
       "      <td>38</td>\n",
       "      <td>0</td>\n",
       "      <td>lev20</td>\n",
       "      <td>929</td>\n",
       "      <td>Huancayo-IGP</td>\n",
       "      <td>-12.0402</td>\n",
       "      <td>-75.3209</td>\n",
       "      <td>3313.0</td>\n",
       "    </tr>\n",
       "  </tbody>\n",
       "</table>\n",
       "<p>1 rows × 80 columns</p>\n",
       "</div>"
      ],
      "text/plain": [
       "                   Date  Day_of_Year  AOD_1640nm  AOD_1020nm  AOD_870nm  \\\n",
       "586 2017-01-15 12:00:00           15    0.016485    0.023729   0.026584   \n",
       "\n",
       "     AOD_865nm  AOD_779nm  AOD_675nm  AOD_667nm  AOD_620nm  ...  \\\n",
       "586     -999.0     -999.0   0.031273     -999.0     -999.0  ...   \n",
       "\n",
       "     N[440-675_Angstrom_Exponent]  N[500-870_Angstrom_Exponent]  \\\n",
       "586                            38                            38   \n",
       "\n",
       "     N[340-440_Angstrom_Exponent]  N[440-675_Angstrom_Exponent[Polar]]  \\\n",
       "586                            38                                    0   \n",
       "\n",
       "     Data_Quality_Level  AERONET_Instrument_Number  AERONET_Site_Name  \\\n",
       "586               lev20                        929       Huancayo-IGP   \n",
       "\n",
       "     Site_Latitude(Degrees)  Site_Longitude(Degrees)  Site_Elevation(m)  \n",
       "586                -12.0402                 -75.3209             3313.0  \n",
       "\n",
       "[1 rows x 80 columns]"
      ]
     },
     "execution_count": 14,
     "metadata": {},
     "output_type": "execute_result"
    }
   ],
   "source": [
    "# Esta forma podría ser una de las mas simples de selección en pandas.\n",
    "# El método query es muy útil para estas tareas\n",
    "\n",
    "aeronet.query(\"Date == '2017-01-15 12:00:00'\")"
   ]
  },
  {
   "cell_type": "markdown",
   "id": "animal-constitution",
   "metadata": {
    "slideshow": {
     "slide_type": "fragment"
    }
   },
   "source": [
    "un poco mas sencillo que hacer indexing, ¿cierto?"
   ]
  },
  {
   "cell_type": "markdown",
   "id": "indonesian-commission",
   "metadata": {
    "slideshow": {
     "slide_type": "fragment"
    }
   },
   "source": [
    "`pandas` es una herramienta altamente versátil que provee muchas operaciones convenientes de selección y agrupación.\n",
    "\n",
    "Pero ... ¿podría ser mejor?"
   ]
  },
  {
   "cell_type": "markdown",
   "id": "short-starter",
   "metadata": {
    "slideshow": {
     "slide_type": "slide"
    }
   },
   "source": [
    "Otra vez <span style=\"font-size: 50px\">SI</span> <span style=\"font-size: 10px\"><s> y no</s></span>"
   ]
  },
  {
   "cell_type": "markdown",
   "id": "determined-thumb",
   "metadata": {
    "slideshow": {
     "slide_type": "fragment"
    }
   },
   "source": [
    "<img src=\"http://xarray.pydata.org/en/stable/_static/dataset-diagram-logo.png\" width=25%>\n",
    "\n",
    "Es un paquete al que podriamos considerar como una combinación de los arreglos n-dimensionales de numpy con las opciones de seleccion de pandas\n",
    "\n",
    "<span style=\"font-size: 0.5em\">Aunque eso sería una sobresimplificación</span>"
   ]
  },
  {
   "cell_type": "markdown",
   "id": "raising-advertising",
   "metadata": {
    "slideshow": {
     "slide_type": "fragment"
    }
   },
   "source": [
    "Tomado de su [documentación](http://xarray.pydata.org/en/stable/):\n",
    "\n",
    "\n",
    ">Xarray introduce etiquetas en forma de dimensiones, coordenadas y atributos sobre matrices multidimensionales de NumPy, lo cual permite una experiencia más intuitiva, más concisa y menos propensa a errores. "
   ]
  },
  {
   "cell_type": "markdown",
   "id": "minimal-angle",
   "metadata": {
    "slideshow": {
     "slide_type": "subslide"
    }
   },
   "source": [
    "**¿En qué se diferencia de `numpy` y `pandas`?**\n",
    "<span style=\"font-size: 0.7em\"> o ¿deberíamos preguntar hasta dónde son iguales? </span>"
   ]
  },
  {
   "cell_type": "markdown",
   "id": "tired-breakdown",
   "metadata": {
    "slideshow": {
     "slide_type": "fragment"
    }
   },
   "source": [
    "Todo depende de los datos que necesitemos leer. Los ejemplos provistos fueron solo para ilustrar una forma típica de ingesta de datos usando los paquetes mencionados: `numpy` con la capacidad de manejar datos n-dimensionales; y `pandas` con el uso de etiquetas en datos tabulares.  \n",
    "\n",
    "`xarray` toma lo mejor de ambos para leer lo que se conoce como Data Cubes\n",
    "\n",
    "<div align=\"center\">\n",
    "<img src=\"imgs/xarray_img.png\" width=60%>\n",
    "</div>\n",
    "<a style=\"font-size: 0.8em\" href=\"https://docs.google.com/presentation/d/16CMY3g_OYr6fQplUZIDqVtG-SKZqsG8Ckwoj2oOqepU/edit#slide=id.g67406e8d7_0_135\">Imagen de Stephan Hoyer</a>"
   ]
  },
  {
   "cell_type": "markdown",
   "id": "appreciated-sheep",
   "metadata": {
    "slideshow": {
     "slide_type": "subslide"
    }
   },
   "source": [
    "El modelo de datos usado en xarray esta basado en el formato NetCDF, lo cual lo vuelve la herramienta ideal para el manejo de datos n-dimensionales.\n",
    "\n",
    "<div align=\"center\">\n",
    "<img src=\"https://www.unidata.ucar.edu/software/netcdf/workshops/most-recent/nc3model/images/ncfile.png\">\n",
    "</div>\n",
    "<a style=\"font-size: 0.8em\" href=\"https://www.unidata.ucar.edu/software/netcdf/workshops/most-recent/nc3model/NcFile.html\">Imagen de UNIDATA</a>"
   ]
  },
  {
   "cell_type": "markdown",
   "id": "exempt-seminar",
   "metadata": {
    "slideshow": {
     "slide_type": "subslide"
    }
   },
   "source": [
    "Las operaciones se vuelven mas simples cuando se conoce explicitamente el nombre de las dimensiones con las que se trabaja"
   ]
  },
  {
   "cell_type": "code",
   "execution_count": 15,
   "id": "gothic-johnson",
   "metadata": {},
   "outputs": [
    {
     "data": {
      "text/html": [
       "<pre>&lt;xarray.Dataset&gt;\n",
       "Dimensions:  (lat: 25, lon: 53, time: 2920)\n",
       "Coordinates:\n",
       "  * lat      (lat) float32 75.0 72.5 70.0 67.5 65.0 ... 25.0 22.5 20.0 17.5 15.0\n",
       "  * lon      (lon) float32 200.0 202.5 205.0 207.5 ... 322.5 325.0 327.5 330.0\n",
       "  * time     (time) datetime64[ns] 2013-01-01 ... 2014-12-31T18:00:00\n",
       "Data variables:\n",
       "    air      (time, lat, lon) float32 ...\n",
       "Attributes:\n",
       "    Conventions:  COARDS\n",
       "    title:        4x daily NMC reanalysis (1948)\n",
       "    description:  Data is from NMC initialized reanalysis\\n(4x/day).  These a...\n",
       "    platform:     Model\n",
       "    references:   http://www.esrl.noaa.gov/psd/data/gridded/data.ncep.reanaly...</pre>"
      ],
      "text/plain": [
       "<xarray.Dataset>\n",
       "Dimensions:  (lat: 25, lon: 53, time: 2920)\n",
       "Coordinates:\n",
       "  * lat      (lat) float32 75.0 72.5 70.0 67.5 65.0 ... 25.0 22.5 20.0 17.5 15.0\n",
       "  * lon      (lon) float32 200.0 202.5 205.0 207.5 ... 322.5 325.0 327.5 330.0\n",
       "  * time     (time) datetime64[ns] 2013-01-01 ... 2014-12-31T18:00:00\n",
       "Data variables:\n",
       "    air      (time, lat, lon) float32 ...\n",
       "Attributes:\n",
       "    Conventions:  COARDS\n",
       "    title:        4x daily NMC reanalysis (1948)\n",
       "    description:  Data is from NMC initialized reanalysis\\n(4x/day).  These a...\n",
       "    platform:     Model\n",
       "    references:   http://www.esrl.noaa.gov/psd/data/gridded/data.ncep.reanaly..."
      ]
     },
     "execution_count": 15,
     "metadata": {},
     "output_type": "execute_result"
    }
   ],
   "source": [
    "import xarray as xr\n",
    "xr.set_options(display_style=\"text\")\n",
    "\n",
    "ds = xr.tutorial.open_dataset(\"air_temperature\")\n",
    "ds"
   ]
  },
  {
   "cell_type": "markdown",
   "id": "designed-lotus",
   "metadata": {
    "slideshow": {
     "slide_type": "subslide"
    }
   },
   "source": [
    "Las variables se pueden acceder de manera individual por su nombre"
   ]
  },
  {
   "cell_type": "code",
   "execution_count": 16,
   "id": "micro-lotus",
   "metadata": {
    "slideshow": {
     "slide_type": "-"
    }
   },
   "outputs": [
    {
     "data": {
      "text/html": [
       "<pre>&lt;xarray.DataArray &#x27;air&#x27; (time: 2920, lat: 25, lon: 53)&gt;\n",
       "[3869000 values with dtype=float32]\n",
       "Coordinates:\n",
       "  * lat      (lat) float32 75.0 72.5 70.0 67.5 65.0 ... 25.0 22.5 20.0 17.5 15.0\n",
       "  * lon      (lon) float32 200.0 202.5 205.0 207.5 ... 322.5 325.0 327.5 330.0\n",
       "  * time     (time) datetime64[ns] 2013-01-01 ... 2014-12-31T18:00:00\n",
       "Attributes:\n",
       "    long_name:     4xDaily Air temperature at sigma level 995\n",
       "    units:         degK\n",
       "    precision:     2\n",
       "    GRIB_id:       11\n",
       "    GRIB_name:     TMP\n",
       "    var_desc:      Air temperature\n",
       "    dataset:       NMC Reanalysis\n",
       "    level_desc:    Surface\n",
       "    statistic:     Individual Obs\n",
       "    parent_stat:   Other\n",
       "    actual_range:  [185.16 322.1 ]</pre>"
      ],
      "text/plain": [
       "<xarray.DataArray 'air' (time: 2920, lat: 25, lon: 53)>\n",
       "[3869000 values with dtype=float32]\n",
       "Coordinates:\n",
       "  * lat      (lat) float32 75.0 72.5 70.0 67.5 65.0 ... 25.0 22.5 20.0 17.5 15.0\n",
       "  * lon      (lon) float32 200.0 202.5 205.0 207.5 ... 322.5 325.0 327.5 330.0\n",
       "  * time     (time) datetime64[ns] 2013-01-01 ... 2014-12-31T18:00:00\n",
       "Attributes:\n",
       "    long_name:     4xDaily Air temperature at sigma level 995\n",
       "    units:         degK\n",
       "    precision:     2\n",
       "    GRIB_id:       11\n",
       "    GRIB_name:     TMP\n",
       "    var_desc:      Air temperature\n",
       "    dataset:       NMC Reanalysis\n",
       "    level_desc:    Surface\n",
       "    statistic:     Individual Obs\n",
       "    parent_stat:   Other\n",
       "    actual_range:  [185.16 322.1 ]"
      ]
     },
     "execution_count": 16,
     "metadata": {},
     "output_type": "execute_result"
    }
   ],
   "source": [
    "air = ds.air\n",
    "air"
   ]
  },
  {
   "cell_type": "markdown",
   "id": "prospective-taxation",
   "metadata": {
    "slideshow": {
     "slide_type": "subslide"
    }
   },
   "source": [
    "La selección de datos acorde al nombre de su dimensión vuelve al código más explícito"
   ]
  },
  {
   "cell_type": "code",
   "execution_count": 17,
   "id": "alternate-explanation",
   "metadata": {
    "scrolled": true,
    "slideshow": {
     "slide_type": "-"
    }
   },
   "outputs": [
    {
     "data": {
      "text/html": [
       "<pre>&lt;xarray.DataArray &#x27;air&#x27; (lat: 25, lon: 53)&gt;\n",
       "array([[256.38998, 254.79999, 253.29999, ..., 242.79999, 244.09999, 246.     ],\n",
       "       [250.59999, 249.29999, 248.59999, ..., 239.5    , 243.29999, 247.89   ],\n",
       "       [248.7    , 247.59999, 247.29999, ..., 238.89   , 244.89   , 251.5    ],\n",
       "       ...,\n",
       "       [297.6    , 297.5    , 297.5    , ..., 292.9    , 292.4    , 291.6    ],\n",
       "       [298.5    , 298.4    , 298.     , ..., 293.     , 292.79   , 292.5    ],\n",
       "       [298.5    , 298.5    , 298.1    , ..., 293.69998, 293.4    , 293.9    ]],\n",
       "      dtype=float32)\n",
       "Coordinates:\n",
       "  * lat      (lat) float32 75.0 72.5 70.0 67.5 65.0 ... 25.0 22.5 20.0 17.5 15.0\n",
       "  * lon      (lon) float32 200.0 202.5 205.0 207.5 ... 322.5 325.0 327.5 330.0\n",
       "    time     datetime64[ns] 2014-02-10T06:00:00\n",
       "Attributes:\n",
       "    long_name:     4xDaily Air temperature at sigma level 995\n",
       "    units:         degK\n",
       "    precision:     2\n",
       "    GRIB_id:       11\n",
       "    GRIB_name:     TMP\n",
       "    var_desc:      Air temperature\n",
       "    dataset:       NMC Reanalysis\n",
       "    level_desc:    Surface\n",
       "    statistic:     Individual Obs\n",
       "    parent_stat:   Other\n",
       "    actual_range:  [185.16 322.1 ]</pre>"
      ],
      "text/plain": [
       "<xarray.DataArray 'air' (lat: 25, lon: 53)>\n",
       "array([[256.38998, 254.79999, 253.29999, ..., 242.79999, 244.09999, 246.     ],\n",
       "       [250.59999, 249.29999, 248.59999, ..., 239.5    , 243.29999, 247.89   ],\n",
       "       [248.7    , 247.59999, 247.29999, ..., 238.89   , 244.89   , 251.5    ],\n",
       "       ...,\n",
       "       [297.6    , 297.5    , 297.5    , ..., 292.9    , 292.4    , 291.6    ],\n",
       "       [298.5    , 298.4    , 298.     , ..., 293.     , 292.79   , 292.5    ],\n",
       "       [298.5    , 298.5    , 298.1    , ..., 293.69998, 293.4    , 293.9    ]],\n",
       "      dtype=float32)\n",
       "Coordinates:\n",
       "  * lat      (lat) float32 75.0 72.5 70.0 67.5 65.0 ... 25.0 22.5 20.0 17.5 15.0\n",
       "  * lon      (lon) float32 200.0 202.5 205.0 207.5 ... 322.5 325.0 327.5 330.0\n",
       "    time     datetime64[ns] 2014-02-10T06:00:00\n",
       "Attributes:\n",
       "    long_name:     4xDaily Air temperature at sigma level 995\n",
       "    units:         degK\n",
       "    precision:     2\n",
       "    GRIB_id:       11\n",
       "    GRIB_name:     TMP\n",
       "    var_desc:      Air temperature\n",
       "    dataset:       NMC Reanalysis\n",
       "    level_desc:    Surface\n",
       "    statistic:     Individual Obs\n",
       "    parent_stat:   Other\n",
       "    actual_range:  [185.16 322.1 ]"
      ]
     },
     "execution_count": 17,
     "metadata": {},
     "output_type": "execute_result"
    }
   ],
   "source": [
    "air.sel(time=\"2014-02-10 06:00:00\")"
   ]
  },
  {
   "cell_type": "markdown",
   "id": "dramatic-philadelphia",
   "metadata": {
    "slideshow": {
     "slide_type": "subslide"
    }
   },
   "source": [
    "O si preferimos usar los índices posicionales"
   ]
  },
  {
   "cell_type": "code",
   "execution_count": 18,
   "id": "electronic-devon",
   "metadata": {},
   "outputs": [
    {
     "data": {
      "text/html": [
       "<pre>&lt;xarray.DataArray &#x27;air&#x27; (lat: 25, lon: 53)&gt;\n",
       "array([[256.38998, 254.79999, 253.29999, ..., 242.79999, 244.09999, 246.     ],\n",
       "       [250.59999, 249.29999, 248.59999, ..., 239.5    , 243.29999, 247.89   ],\n",
       "       [248.7    , 247.59999, 247.29999, ..., 238.89   , 244.89   , 251.5    ],\n",
       "       ...,\n",
       "       [297.6    , 297.5    , 297.5    , ..., 292.9    , 292.4    , 291.6    ],\n",
       "       [298.5    , 298.4    , 298.     , ..., 293.     , 292.79   , 292.5    ],\n",
       "       [298.5    , 298.5    , 298.1    , ..., 293.69998, 293.4    , 293.9    ]],\n",
       "      dtype=float32)\n",
       "Coordinates:\n",
       "  * lat      (lat) float32 75.0 72.5 70.0 67.5 65.0 ... 25.0 22.5 20.0 17.5 15.0\n",
       "  * lon      (lon) float32 200.0 202.5 205.0 207.5 ... 322.5 325.0 327.5 330.0\n",
       "    time     datetime64[ns] 2014-02-10T06:00:00\n",
       "Attributes:\n",
       "    long_name:     4xDaily Air temperature at sigma level 995\n",
       "    units:         degK\n",
       "    precision:     2\n",
       "    GRIB_id:       11\n",
       "    GRIB_name:     TMP\n",
       "    var_desc:      Air temperature\n",
       "    dataset:       NMC Reanalysis\n",
       "    level_desc:    Surface\n",
       "    statistic:     Individual Obs\n",
       "    parent_stat:   Other\n",
       "    actual_range:  [185.16 322.1 ]</pre>"
      ],
      "text/plain": [
       "<xarray.DataArray 'air' (lat: 25, lon: 53)>\n",
       "array([[256.38998, 254.79999, 253.29999, ..., 242.79999, 244.09999, 246.     ],\n",
       "       [250.59999, 249.29999, 248.59999, ..., 239.5    , 243.29999, 247.89   ],\n",
       "       [248.7    , 247.59999, 247.29999, ..., 238.89   , 244.89   , 251.5    ],\n",
       "       ...,\n",
       "       [297.6    , 297.5    , 297.5    , ..., 292.9    , 292.4    , 291.6    ],\n",
       "       [298.5    , 298.4    , 298.     , ..., 293.     , 292.79   , 292.5    ],\n",
       "       [298.5    , 298.5    , 298.1    , ..., 293.69998, 293.4    , 293.9    ]],\n",
       "      dtype=float32)\n",
       "Coordinates:\n",
       "  * lat      (lat) float32 75.0 72.5 70.0 67.5 65.0 ... 25.0 22.5 20.0 17.5 15.0\n",
       "  * lon      (lon) float32 200.0 202.5 205.0 207.5 ... 322.5 325.0 327.5 330.0\n",
       "    time     datetime64[ns] 2014-02-10T06:00:00\n",
       "Attributes:\n",
       "    long_name:     4xDaily Air temperature at sigma level 995\n",
       "    units:         degK\n",
       "    precision:     2\n",
       "    GRIB_id:       11\n",
       "    GRIB_name:     TMP\n",
       "    var_desc:      Air temperature\n",
       "    dataset:       NMC Reanalysis\n",
       "    level_desc:    Surface\n",
       "    statistic:     Individual Obs\n",
       "    parent_stat:   Other\n",
       "    actual_range:  [185.16 322.1 ]"
      ]
     },
     "execution_count": 18,
     "metadata": {},
     "output_type": "execute_result"
    }
   ],
   "source": [
    "air.isel(time = 1621)"
   ]
  },
  {
   "cell_type": "markdown",
   "id": "excessive-gothic",
   "metadata": {
    "slideshow": {
     "slide_type": "subslide"
    }
   },
   "source": [
    "hasta incluso si preferimos los métodos antiguos"
   ]
  },
  {
   "cell_type": "code",
   "execution_count": 19,
   "id": "central-intention",
   "metadata": {},
   "outputs": [
    {
     "data": {
      "text/html": [
       "<pre>&lt;xarray.DataArray &#x27;air&#x27; (lat: 25, lon: 53)&gt;\n",
       "array([[256.38998, 254.79999, 253.29999, ..., 242.79999, 244.09999, 246.     ],\n",
       "       [250.59999, 249.29999, 248.59999, ..., 239.5    , 243.29999, 247.89   ],\n",
       "       [248.7    , 247.59999, 247.29999, ..., 238.89   , 244.89   , 251.5    ],\n",
       "       ...,\n",
       "       [297.6    , 297.5    , 297.5    , ..., 292.9    , 292.4    , 291.6    ],\n",
       "       [298.5    , 298.4    , 298.     , ..., 293.     , 292.79   , 292.5    ],\n",
       "       [298.5    , 298.5    , 298.1    , ..., 293.69998, 293.4    , 293.9    ]],\n",
       "      dtype=float32)\n",
       "Coordinates:\n",
       "  * lat      (lat) float32 75.0 72.5 70.0 67.5 65.0 ... 25.0 22.5 20.0 17.5 15.0\n",
       "  * lon      (lon) float32 200.0 202.5 205.0 207.5 ... 322.5 325.0 327.5 330.0\n",
       "    time     datetime64[ns] 2014-02-10T06:00:00\n",
       "Attributes:\n",
       "    long_name:     4xDaily Air temperature at sigma level 995\n",
       "    units:         degK\n",
       "    precision:     2\n",
       "    GRIB_id:       11\n",
       "    GRIB_name:     TMP\n",
       "    var_desc:      Air temperature\n",
       "    dataset:       NMC Reanalysis\n",
       "    level_desc:    Surface\n",
       "    statistic:     Individual Obs\n",
       "    parent_stat:   Other\n",
       "    actual_range:  [185.16 322.1 ]</pre>"
      ],
      "text/plain": [
       "<xarray.DataArray 'air' (lat: 25, lon: 53)>\n",
       "array([[256.38998, 254.79999, 253.29999, ..., 242.79999, 244.09999, 246.     ],\n",
       "       [250.59999, 249.29999, 248.59999, ..., 239.5    , 243.29999, 247.89   ],\n",
       "       [248.7    , 247.59999, 247.29999, ..., 238.89   , 244.89   , 251.5    ],\n",
       "       ...,\n",
       "       [297.6    , 297.5    , 297.5    , ..., 292.9    , 292.4    , 291.6    ],\n",
       "       [298.5    , 298.4    , 298.     , ..., 293.     , 292.79   , 292.5    ],\n",
       "       [298.5    , 298.5    , 298.1    , ..., 293.69998, 293.4    , 293.9    ]],\n",
       "      dtype=float32)\n",
       "Coordinates:\n",
       "  * lat      (lat) float32 75.0 72.5 70.0 67.5 65.0 ... 25.0 22.5 20.0 17.5 15.0\n",
       "  * lon      (lon) float32 200.0 202.5 205.0 207.5 ... 322.5 325.0 327.5 330.0\n",
       "    time     datetime64[ns] 2014-02-10T06:00:00\n",
       "Attributes:\n",
       "    long_name:     4xDaily Air temperature at sigma level 995\n",
       "    units:         degK\n",
       "    precision:     2\n",
       "    GRIB_id:       11\n",
       "    GRIB_name:     TMP\n",
       "    var_desc:      Air temperature\n",
       "    dataset:       NMC Reanalysis\n",
       "    level_desc:    Surface\n",
       "    statistic:     Individual Obs\n",
       "    parent_stat:   Other\n",
       "    actual_range:  [185.16 322.1 ]"
      ]
     },
     "execution_count": 19,
     "metadata": {},
     "output_type": "execute_result"
    }
   ],
   "source": [
    "air[1621]"
   ]
  },
  {
   "cell_type": "markdown",
   "id": "useful-multiple",
   "metadata": {
    "slideshow": {
     "slide_type": "subslide"
    }
   },
   "source": [
    "Incluso se tiene acceso a ciertas operaciones de agregación de `numpy`, pero esta vez usando los nombres de las dimensiones"
   ]
  },
  {
   "cell_type": "code",
   "execution_count": 20,
   "id": "nervous-alliance",
   "metadata": {
    "scrolled": true,
    "slideshow": {
     "slide_type": "-"
    }
   },
   "outputs": [
    {
     "data": {
      "text/html": [
       "<pre>&lt;xarray.DataArray &#x27;air&#x27; (lat: 25, lon: 53)&gt;\n",
       "array([[256.7475 , 255.5    , 254.22498, ..., 242.99998, 244.29749,\n",
       "        246.35   ],\n",
       "       [254.35   , 253.02249, 251.875  , ..., 239.275  , 242.79999,\n",
       "        247.345  ],\n",
       "       [251.54999, 249.82498, 248.84749, ..., 239.745  , 245.3975 ,\n",
       "        251.72499],\n",
       "       ...,\n",
       "       [297.2225 , 297.05   , 296.95   , ..., 293.49503, 292.625  ,\n",
       "        291.9725 ],\n",
       "       [297.77496, 297.8    , 297.6225 , ..., 293.475  , 293.22247,\n",
       "        292.87003],\n",
       "       [297.8975 , 297.96753, 297.75   , ..., 294.24997, 294.15   ,\n",
       "        294.325  ]], dtype=float32)\n",
       "Coordinates:\n",
       "  * lat      (lat) float32 75.0 72.5 70.0 67.5 65.0 ... 25.0 22.5 20.0 17.5 15.0\n",
       "  * lon      (lon) float32 200.0 202.5 205.0 207.5 ... 322.5 325.0 327.5 330.0</pre>"
      ],
      "text/plain": [
       "<xarray.DataArray 'air' (lat: 25, lon: 53)>\n",
       "array([[256.7475 , 255.5    , 254.22498, ..., 242.99998, 244.29749,\n",
       "        246.35   ],\n",
       "       [254.35   , 253.02249, 251.875  , ..., 239.275  , 242.79999,\n",
       "        247.345  ],\n",
       "       [251.54999, 249.82498, 248.84749, ..., 239.745  , 245.3975 ,\n",
       "        251.72499],\n",
       "       ...,\n",
       "       [297.2225 , 297.05   , 296.95   , ..., 293.49503, 292.625  ,\n",
       "        291.9725 ],\n",
       "       [297.77496, 297.8    , 297.6225 , ..., 293.475  , 293.22247,\n",
       "        292.87003],\n",
       "       [297.8975 , 297.96753, 297.75   , ..., 294.24997, 294.15   ,\n",
       "        294.325  ]], dtype=float32)\n",
       "Coordinates:\n",
       "  * lat      (lat) float32 75.0 72.5 70.0 67.5 65.0 ... 25.0 22.5 20.0 17.5 15.0\n",
       "  * lon      (lon) float32 200.0 202.5 205.0 207.5 ... 322.5 325.0 327.5 330.0"
      ]
     },
     "execution_count": 20,
     "metadata": {},
     "output_type": "execute_result"
    }
   ],
   "source": [
    "air.sel(time=\"2014-02-10\").mean(dim=\"time\")"
   ]
  },
  {
   "cell_type": "markdown",
   "id": "instrumental-turkish",
   "metadata": {
    "slideshow": {
     "slide_type": "subslide"
    }
   },
   "source": [
    "y muchas cosas más"
   ]
  },
  {
   "cell_type": "code",
   "execution_count": 21,
   "id": "antique-skating",
   "metadata": {},
   "outputs": [
    {
     "data": {
      "text/plain": [
       "<matplotlib.contour.QuadContourSet at 0x7f3a64ad35b0>"
      ]
     },
     "execution_count": 21,
     "metadata": {},
     "output_type": "execute_result"
    },
    {
     "data": {
      "image/png": "[encoded data removed]",
      "text/plain": [
       "<Figure size 720x432 with 2 Axes>"
      ]
     },
     "metadata": {
      "needs_background": "light"
     },
     "output_type": "display_data"
    }
   ],
   "source": [
    "air_subset = air.sel(time=slice(\"2013-10-01\", \"2013-12-31\"), lon=slice(250, 300)).pipe(lambda x: x -273.15)\n",
    "air_subset_masked = air_subset.where(air_subset < 10)\n",
    "air_subset_masked.mean(dim=\"time\").plot.contourf(levels=16, figsize=(10,6))"
   ]
  },
  {
   "cell_type": "markdown",
   "id": "structured-coffee",
   "metadata": {
    "slideshow": {
     "slide_type": "subslide"
    }
   },
   "source": [
    "La integración con matplotlib permite generar gŕaficos rápidos de nuestros datos, usando los atributos (o metadatos) para colocar las etiquetas y unidades tanto en los ejes como en la barra de colores"
   ]
  },
  {
   "cell_type": "code",
   "execution_count": 22,
   "id": "finished-marshall",
   "metadata": {
    "scrolled": false,
    "slideshow": {
     "slide_type": "-"
    }
   },
   "outputs": [
    {
     "data": {
      "text/plain": [
       "<matplotlib.collections.QuadMesh at 0x7f3a64965a00>"
      ]
     },
     "execution_count": 22,
     "metadata": {},
     "output_type": "execute_result"
    },
    {
     "data": {
      "image/png": "[encoded data removed]",
      "text/plain": [
       "<Figure size 432x288 with 2 Axes>"
      ]
     },
     "metadata": {
      "needs_background": "light"
     },
     "output_type": "display_data"
    }
   ],
   "source": [
    "air.sel(time=\"2014-02-10 18:00\").plot()"
   ]
  },
  {
   "cell_type": "markdown",
   "id": "later-corpus",
   "metadata": {
    "slideshow": {
     "slide_type": "slide"
    }
   },
   "source": [
    "Las reglas de propagación de dimensiones (broadcasting) usadas en numpy tambien son aplicadas en xarray\n",
    "\n",
    "<div align=\"center\">\n",
    "<img src=\"http://scipy-lectures.org/_images/numpy_broadcasting.png\" width=60%>\n",
    "</div>\n",
    "\n",
    "<a style=\"font-size: 0.8em\" href=\"http://scipy-lectures.org/intro/numpy/operations.html#broadcasting\">Scipy Lecture Notes</a>"
   ]
  },
  {
   "cell_type": "markdown",
   "id": "cubic-freight",
   "metadata": {
    "slideshow": {
     "slide_type": "subslide"
    }
   },
   "source": [
    "Manteniendo las dimensiones durante el proceso. `xarray` tambien es capaz de alinear los datos en coordenadas comunes.\n",
    "\n",
    "<div align=\"center\">\n",
    "<img src=\"https://xarray-contrib.github.io/xarray-tutorial/_images/broadcasting.png\" width=60%>\n",
    "</div>\n",
    "\n",
    "<a style=\"font-size: 0.8em\" href=\"https://docs.google.com/presentation/d/16CMY3g_OYr6fQplUZIDqVtG-SKZqsG8Ckwoj2oOqepU/edit#slide=id.g67406e8d7_0_135\">Imagen de Stephan Hoyer</a>"
   ]
  },
  {
   "cell_type": "code",
   "execution_count": 23,
   "id": "lesbian-baghdad",
   "metadata": {
    "slideshow": {
     "slide_type": "slide"
    }
   },
   "outputs": [
    {
     "name": "stdout",
     "output_type": "stream",
     "text": [
      "a.shape=(3, 1)\n",
      "b.shape=(1, 4)\n",
      "suma.shape=(3, 4)\n"
     ]
    }
   ],
   "source": [
    "a = np.arange(3).reshape(3,1)\n",
    "b = np.arange(4).reshape(1,4)\n",
    "suma = a + b\n",
    "\n",
    "print(f\"{a.shape=}\")\n",
    "print(f\"{b.shape=}\")\n",
    "print(f\"{suma.shape=}\")"
   ]
  },
  {
   "cell_type": "code",
   "execution_count": 24,
   "id": "little-rotation",
   "metadata": {
    "scrolled": false,
    "slideshow": {
     "slide_type": "-"
    }
   },
   "outputs": [
    {
     "data": {
      "text/html": [
       "<pre>&lt;xarray.DataArray (time: 3, space: 4)&gt;\n",
       "array([[0, 1, 2, 3],\n",
       "       [1, 2, 3, 4],\n",
       "       [2, 3, 4, 5]])\n",
       "Coordinates:\n",
       "  * time     (time) int64 0 1 2\n",
       "  * space    (space) int64 0 1 2 3</pre>"
      ],
      "text/plain": [
       "<xarray.DataArray (time: 3, space: 4)>\n",
       "array([[0, 1, 2, 3],\n",
       "       [1, 2, 3, 4],\n",
       "       [2, 3, 4, 5]])\n",
       "Coordinates:\n",
       "  * time     (time) int64 0 1 2\n",
       "  * space    (space) int64 0 1 2 3"
      ]
     },
     "execution_count": 24,
     "metadata": {},
     "output_type": "execute_result"
    }
   ],
   "source": [
    "# tomado de https://fabienmaussion.info/acinn_xarray_workshop/#/8/1\n",
    "a = xr.DataArray(np.arange(3), dims='time', \n",
    "                 coords={'time':np.arange(3)})\n",
    "b = xr.DataArray(np.arange(4), dims='space', \n",
    "                 coords={'space':np.arange(4)})\n",
    "a + b"
   ]
  },
  {
   "cell_type": "code",
   "execution_count": 25,
   "id": "physical-jumping",
   "metadata": {
    "scrolled": true,
    "slideshow": {
     "slide_type": "subslide"
    }
   },
   "outputs": [
    {
     "data": {
      "text/html": [
       "<pre>&lt;xarray.DataArray (time: 3)&gt;\n",
       "array([0, 1, 2])\n",
       "Coordinates:\n",
       "  * time     (time) int64 0 1 2</pre>"
      ],
      "text/plain": [
       "<xarray.DataArray (time: 3)>\n",
       "array([0, 1, 2])\n",
       "Coordinates:\n",
       "  * time     (time) int64 0 1 2"
      ]
     },
     "execution_count": 25,
     "metadata": {},
     "output_type": "execute_result"
    }
   ],
   "source": [
    "a = xr.DataArray(np.arange(3), dims='time', \n",
    "                 coords={'time':np.arange(3)})\n",
    "a"
   ]
  },
  {
   "cell_type": "code",
   "execution_count": 26,
   "id": "blessed-sustainability",
   "metadata": {},
   "outputs": [
    {
     "data": {
      "text/html": [
       "<pre>&lt;xarray.DataArray (time: 4)&gt;\n",
       "array([0, 1, 2, 3])\n",
       "Coordinates:\n",
       "  * time     (time) int64 1 2 3 4</pre>"
      ],
      "text/plain": [
       "<xarray.DataArray (time: 4)>\n",
       "array([0, 1, 2, 3])\n",
       "Coordinates:\n",
       "  * time     (time) int64 1 2 3 4"
      ]
     },
     "execution_count": 26,
     "metadata": {},
     "output_type": "execute_result"
    }
   ],
   "source": [
    "b = xr.DataArray(np.arange(4), dims='time', \n",
    "                 coords={'time':np.arange(1,5)})\n",
    "b"
   ]
  },
  {
   "cell_type": "code",
   "execution_count": 27,
   "id": "banner-girlfriend",
   "metadata": {},
   "outputs": [
    {
     "data": {
      "text/html": [
       "<pre>&lt;xarray.DataArray (time: 2)&gt;\n",
       "array([1, 3])\n",
       "Coordinates:\n",
       "  * time     (time) int64 1 2</pre>"
      ],
      "text/plain": [
       "<xarray.DataArray (time: 2)>\n",
       "array([1, 3])\n",
       "Coordinates:\n",
       "  * time     (time) int64 1 2"
      ]
     },
     "execution_count": 27,
     "metadata": {},
     "output_type": "execute_result"
    }
   ],
   "source": [
    "a + b"
   ]
  },
  {
   "cell_type": "markdown",
   "id": "sublime-involvement",
   "metadata": {
    "slideshow": {
     "slide_type": "slide"
    }
   },
   "source": [
    "## Escalando la computación"
   ]
  },
  {
   "cell_type": "markdown",
   "id": "national-clock",
   "metadata": {
    "slideshow": {
     "slide_type": "subslide"
    }
   },
   "source": [
    "En la era actual, la cantidad de datos que se generan sobrepasan nuestra habilidad para analizarlos.  \n",
    "\n",
    "Los paquetes usados para la computación científica en python no escalan muy bien con grandes cantidades de datos, especialmente cuando la memoria del sistema no puede contener toda la información al mismo tiempo"
   ]
  },
  {
   "cell_type": "markdown",
   "id": "express-envelope",
   "metadata": {
    "slideshow": {
     "slide_type": "fragment"
    }
   },
   "source": [
    "<div style=\"background-color: black\" align=\"center\">\n",
    "<img src=\"https://dask.org/_images/dask_horizontal_white_no_pad.svg\" width=25%>\n",
    "</div>\n",
    "\n",
    "Dask es la herramienta que escala la computación en python de manera nativa, integrandose perfectamente en el ecosistema científico de python"
   ]
  },
  {
   "cell_type": "markdown",
   "id": "transsexual-turtle",
   "metadata": {
    "slideshow": {
     "slide_type": "subslide"
    }
   },
   "source": [
    "<div align=\"center\">\n",
    "<img src=\"https://mk0coiled27knr0w73eb.kinstacdn.com/wp-content/uploads/jake-pydata-eco-pycon-2017.png\">\n",
    "</div>\n",
    "\n",
    "<a style=\"font-size: 0.6em\" href=\"https://www.youtube.com/watch?v=ZyjCqQEUa8o\">Jake VanderPlas PyCon 2017 Keynote</a>"
   ]
  },
  {
   "cell_type": "markdown",
   "id": "close-centre",
   "metadata": {
    "slideshow": {
     "slide_type": "subslide"
    }
   },
   "source": [
    "**¿Cómo funciona?**"
   ]
  },
  {
   "cell_type": "markdown",
   "id": "beautiful-edwards",
   "metadata": {
    "slideshow": {
     "slide_type": "fragment"
    }
   },
   "source": [
    "<div align=\"center\">\n",
    "<img src=\"imgs/dask_img.png\" width=100%>\n",
    "</div>\n",
    "\n",
    "<a style=\"font-size: 0.8em\" href=\"https://dask.org/\">Dask website</a>"
   ]
  },
  {
   "cell_type": "markdown",
   "id": "advance-swing",
   "metadata": {},
   "source": [
    "Dask se basa en el trabajo por *chunks* o bloques, distribuyendo el trabajo de manera eficiente y paralela."
   ]
  },
  {
   "cell_type": "code",
   "execution_count": 28,
   "id": "restricted-picture",
   "metadata": {
    "slideshow": {
     "slide_type": "subslide"
    }
   },
   "outputs": [
    {
     "data": {
      "text/plain": [
       "array([[-0.19523508,  0.24828882,  0.34009482, ...,  0.39169671,\n",
       "         0.63891978,  0.13264007],\n",
       "       [ 0.25829014,  1.36323213,  0.31862449, ...,  0.80828547,\n",
       "         1.32568503,  0.82537338],\n",
       "       [ 0.34598329,  0.31451164,  1.33974956, ...,  0.19067418,\n",
       "        -0.09451697,  0.57549602],\n",
       "       ...,\n",
       "       [ 0.39021262,  0.79680007,  0.18330163, ...,  0.55149664,\n",
       "        -0.24588466,  0.40105444],\n",
       "       [ 0.63622156,  1.31298549, -0.10310366, ..., -0.24709879,\n",
       "         1.13633203,  0.11920546],\n",
       "       [ 0.13251514,  0.81524712,  0.56948262, ...,  0.40241359,\n",
       "         0.12177874,  0.58914074]])"
      ]
     },
     "execution_count": 28,
     "metadata": {},
     "output_type": "execute_result"
    }
   ],
   "source": [
    "# NumPy\n",
    "x = np.random.random((1000, 1000))\n",
    "x + x.T - x.mean(axis=0)"
   ]
  },
  {
   "cell_type": "code",
   "execution_count": 29,
   "id": "authorized-maryland",
   "metadata": {
    "scrolled": false
   },
   "outputs": [
    {
     "data": {
      "text/html": [
       "<table>\n",
       "<tr>\n",
       "<td>\n",
       "<table>\n",
       "  <thead>\n",
       "    <tr><td> </td><th> Array </th><th> Chunk </th></tr>\n",
       "  </thead>\n",
       "  <tbody>\n",
       "    <tr><th> Bytes </th><td> 80.00 GB </td> <td> 8.00 MB </td></tr>\n",
       "    <tr><th> Shape </th><td> (100000, 100000) </td> <td> (1000, 1000) </td></tr>\n",
       "    <tr><th> Count </th><td> 53500 Tasks </td><td> 10000 Chunks </td></tr>\n",
       "    <tr><th> Type </th><td> float64 </td><td> numpy.ndarray </td></tr>\n",
       "  </tbody>\n",
       "</table>\n",
       "</td>\n",
       "<td>\n",
       "<svg width=\"170\" height=\"170\" style=\"stroke:rgb(0,0,0);stroke-width:1\" >\n",
       "\n",
       "  <!-- Horizontal lines -->\n",
       "  <line x1=\"0\" y1=\"0\" x2=\"120\" y2=\"0\" style=\"stroke-width:2\" />\n",
       "  <line x1=\"0\" y1=\"6\" x2=\"120\" y2=\"6\" />\n",
       "  <line x1=\"0\" y1=\"12\" x2=\"120\" y2=\"12\" />\n",
       "  <line x1=\"0\" y1=\"18\" x2=\"120\" y2=\"18\" />\n",
       "  <line x1=\"0\" y1=\"25\" x2=\"120\" y2=\"25\" />\n",
       "  <line x1=\"0\" y1=\"31\" x2=\"120\" y2=\"31\" />\n",
       "  <line x1=\"0\" y1=\"37\" x2=\"120\" y2=\"37\" />\n",
       "  <line x1=\"0\" y1=\"43\" x2=\"120\" y2=\"43\" />\n",
       "  <line x1=\"0\" y1=\"50\" x2=\"120\" y2=\"50\" />\n",
       "  <line x1=\"0\" y1=\"56\" x2=\"120\" y2=\"56\" />\n",
       "  <line x1=\"0\" y1=\"62\" x2=\"120\" y2=\"62\" />\n",
       "  <line x1=\"0\" y1=\"68\" x2=\"120\" y2=\"68\" />\n",
       "  <line x1=\"0\" y1=\"75\" x2=\"120\" y2=\"75\" />\n",
       "  <line x1=\"0\" y1=\"81\" x2=\"120\" y2=\"81\" />\n",
       "  <line x1=\"0\" y1=\"87\" x2=\"120\" y2=\"87\" />\n",
       "  <line x1=\"0\" y1=\"93\" x2=\"120\" y2=\"93\" />\n",
       "  <line x1=\"0\" y1=\"100\" x2=\"120\" y2=\"100\" />\n",
       "  <line x1=\"0\" y1=\"106\" x2=\"120\" y2=\"106\" />\n",
       "  <line x1=\"0\" y1=\"112\" x2=\"120\" y2=\"112\" />\n",
       "  <line x1=\"0\" y1=\"120\" x2=\"120\" y2=\"120\" style=\"stroke-width:2\" />\n",
       "\n",
       "  <!-- Vertical lines -->\n",
       "  <line x1=\"0\" y1=\"0\" x2=\"0\" y2=\"120\" style=\"stroke-width:2\" />\n",
       "  <line x1=\"6\" y1=\"0\" x2=\"6\" y2=\"120\" />\n",
       "  <line x1=\"12\" y1=\"0\" x2=\"12\" y2=\"120\" />\n",
       "  <line x1=\"18\" y1=\"0\" x2=\"18\" y2=\"120\" />\n",
       "  <line x1=\"25\" y1=\"0\" x2=\"25\" y2=\"120\" />\n",
       "  <line x1=\"31\" y1=\"0\" x2=\"31\" y2=\"120\" />\n",
       "  <line x1=\"37\" y1=\"0\" x2=\"37\" y2=\"120\" />\n",
       "  <line x1=\"43\" y1=\"0\" x2=\"43\" y2=\"120\" />\n",
       "  <line x1=\"50\" y1=\"0\" x2=\"50\" y2=\"120\" />\n",
       "  <line x1=\"56\" y1=\"0\" x2=\"56\" y2=\"120\" />\n",
       "  <line x1=\"62\" y1=\"0\" x2=\"62\" y2=\"120\" />\n",
       "  <line x1=\"68\" y1=\"0\" x2=\"68\" y2=\"120\" />\n",
       "  <line x1=\"75\" y1=\"0\" x2=\"75\" y2=\"120\" />\n",
       "  <line x1=\"81\" y1=\"0\" x2=\"81\" y2=\"120\" />\n",
       "  <line x1=\"87\" y1=\"0\" x2=\"87\" y2=\"120\" />\n",
       "  <line x1=\"93\" y1=\"0\" x2=\"93\" y2=\"120\" />\n",
       "  <line x1=\"100\" y1=\"0\" x2=\"100\" y2=\"120\" />\n",
       "  <line x1=\"106\" y1=\"0\" x2=\"106\" y2=\"120\" />\n",
       "  <line x1=\"112\" y1=\"0\" x2=\"112\" y2=\"120\" />\n",
       "  <line x1=\"120\" y1=\"0\" x2=\"120\" y2=\"120\" style=\"stroke-width:2\" />\n",
       "\n",
       "  <!-- Colored Rectangle -->\n",
       "  <polygon points=\"0.0,0.0 120.0,0.0 120.0,120.0 0.0,120.0\" style=\"fill:#8B4903A0;stroke-width:0\"/>\n",
       "\n",
       "  <!-- Text -->\n",
       "  <text x=\"60.000000\" y=\"140.000000\" font-size=\"1.0rem\" font-weight=\"100\" text-anchor=\"middle\" >100000</text>\n",
       "  <text x=\"140.000000\" y=\"60.000000\" font-size=\"1.0rem\" font-weight=\"100\" text-anchor=\"middle\" transform=\"rotate(-90,140.000000,60.000000)\">100000</text>\n",
       "</svg>\n",
       "</td>\n",
       "</tr>\n",
       "</table>"
      ],
      "text/plain": [
       "dask.array<sub, shape=(100000, 100000), dtype=float64, chunksize=(1000, 1000), chunktype=numpy.ndarray>"
      ]
     },
     "execution_count": 29,
     "metadata": {},
     "output_type": "execute_result"
    }
   ],
   "source": [
    "# Dask.array\n",
    "import dask.array as da\n",
    "x = da.random.random((100000, 100000), chunks=(1000, 1000))\n",
    "x + x.T - x.mean(axis=0)"
   ]
  },
  {
   "cell_type": "markdown",
   "id": "narrative-assembly",
   "metadata": {
    "slideshow": {
     "slide_type": "subslide"
    }
   },
   "source": [
    "## Si corre en tu laptop, puede funcionar en un cluster\n",
    "\n",
    "Escalar la computación a sistemas de alto rendimiento es sencillo gracias al planificador de tareas de `dask`\n",
    "\n",
    "<div align=\"center\">\n",
    "<img src=\"https://raw.githubusercontent.com/dask/dask-org/main/images/grid_search_schedule.gif\">\n",
    "</div>\n",
    "<a style=\"font-size: 0.8em\" href=\"https://dask.org/\">Dask website</a>"
   ]
  },
  {
   "cell_type": "markdown",
   "id": "expanded-audience",
   "metadata": {
    "slideshow": {
     "slide_type": "slide"
    }
   },
   "source": [
    "### xarray + dask\n",
    "\n",
    "La combinación perfecta para el manejo de big data en geociencias, todo gracias al ecosistema Pangeo en python."
   ]
  },
  {
   "cell_type": "code",
   "execution_count": 30,
   "id": "altered-execution",
   "metadata": {},
   "outputs": [
    {
     "data": {
      "text/html": [
       "<pre>&lt;xarray.DataArray &#x27;air&#x27; (time: 2920, lat: 25, lon: 53)&gt;\n",
       "dask.array&lt;xarray-&lt;this-array&gt;, shape=(2920, 25, 53), dtype=float32, chunksize=(30, 25, 53), chunktype=numpy.ndarray&gt;\n",
       "Coordinates:\n",
       "  * lat      (lat) float32 75.0 72.5 70.0 67.5 65.0 ... 25.0 22.5 20.0 17.5 15.0\n",
       "  * lon      (lon) float32 200.0 202.5 205.0 207.5 ... 322.5 325.0 327.5 330.0\n",
       "  * time     (time) datetime64[ns] 2013-01-01 ... 2014-12-31T18:00:00\n",
       "Attributes:\n",
       "    long_name:     4xDaily Air temperature at sigma level 995\n",
       "    units:         degK\n",
       "    precision:     2\n",
       "    GRIB_id:       11\n",
       "    GRIB_name:     TMP\n",
       "    var_desc:      Air temperature\n",
       "    dataset:       NMC Reanalysis\n",
       "    level_desc:    Surface\n",
       "    statistic:     Individual Obs\n",
       "    parent_stat:   Other\n",
       "    actual_range:  [185.16 322.1 ]</pre>"
      ],
      "text/plain": [
       "<xarray.DataArray 'air' (time: 2920, lat: 25, lon: 53)>\n",
       "dask.array<xarray-<this-array>, shape=(2920, 25, 53), dtype=float32, chunksize=(30, 25, 53), chunktype=numpy.ndarray>\n",
       "Coordinates:\n",
       "  * lat      (lat) float32 75.0 72.5 70.0 67.5 65.0 ... 25.0 22.5 20.0 17.5 15.0\n",
       "  * lon      (lon) float32 200.0 202.5 205.0 207.5 ... 322.5 325.0 327.5 330.0\n",
       "  * time     (time) datetime64[ns] 2013-01-01 ... 2014-12-31T18:00:00\n",
       "Attributes:\n",
       "    long_name:     4xDaily Air temperature at sigma level 995\n",
       "    units:         degK\n",
       "    precision:     2\n",
       "    GRIB_id:       11\n",
       "    GRIB_name:     TMP\n",
       "    var_desc:      Air temperature\n",
       "    dataset:       NMC Reanalysis\n",
       "    level_desc:    Surface\n",
       "    statistic:     Individual Obs\n",
       "    parent_stat:   Other\n",
       "    actual_range:  [185.16 322.1 ]"
      ]
     },
     "execution_count": 30,
     "metadata": {},
     "output_type": "execute_result"
    }
   ],
   "source": [
    "# Esto es solo un ejemplo ilustrativo\n",
    "air.chunk({\"time\":30})"
   ]
  },
  {
   "cell_type": "markdown",
   "id": "ahead-prefix",
   "metadata": {
    "slideshow": {
     "slide_type": "slide"
    }
   },
   "source": [
    "<div align=\"center\">\n",
    "<img src=\"https://repository-images.githubusercontent.com/101820659/4fcdfc00-6c25-11e9-9e30-33a31a285450\" width=70%>\n",
    "</div>\n",
    "\n",
    "Un proyecto de la comunidad dedicado a promover el desarrollo de ciencia de manera libre, reproducible y escalable.  "
   ]
  },
  {
   "cell_type": "markdown",
   "id": "greater-offer",
   "metadata": {
    "slideshow": {
     "slide_type": "subslide"
    }
   },
   "source": [
    "Donde comenzó\n",
    "\n",
    "\n",
    "<div align=\"center\">\n",
    "<img src=\"https://pangeo.io/_images/pangeo_tech_1.png\">\n",
    "</div>\n",
    "<a style=\"font-size: 0.8em\" href=\"https://pangeo.io/architecture.html\">Pangeo website</a>"
   ]
  },
  {
   "cell_type": "markdown",
   "id": "bulgarian-migration",
   "metadata": {
    "slideshow": {
     "slide_type": "subslide"
    }
   },
   "source": [
    "donde se encuentra\n",
    "\n",
    "<div align=\"center\">\n",
    "<img src=\"https://pangeo.io/_images/interop.jpeg\" width=70%>\n",
    "</div>\n",
    "\n",
    "<a style=\"font-size: 0.8em\" href=\"https://pangeo.io/architecture.html\">Pangeo website</a>"
   ]
  },
  {
   "cell_type": "markdown",
   "id": "accessory-congo",
   "metadata": {
    "slideshow": {
     "slide_type": "slide"
    }
   },
   "source": [
    "# Para concluir\n",
    "\n",
    "- xarray es una herramienta muy util que facilita la escritura de código legible y práctico.\n",
    "- La extensión de este paquete no se limita solo a geociencias, el modelo de datos puede ser usado en el area que se desee.\n",
    "- El ecosistema que provee Pangeo busca generar herramientas interoperables, capaces de escalar a computadoras de alto rendimineto.\n",
    "- La curva de aprendizaje no es muy inclinada, pero definitivamente vale la pena aprender los detalles más tecnicos, sobre todo si se busca velocidad de cómputo"
   ]
  }
 ],
 "metadata": {
  "celltoolbar": "Slideshow",
  "kernelspec": {
   "display_name": "Python 3",
   "language": "python",
   "name": "python3"
  },
  "language_info": {
   "codemirror_mode": {
    "name": "ipython",
    "version": 3
   },
   "file_extension": ".py",
   "mimetype": "text/x-python",
   "name": "python",
   "nbconvert_exporter": "python",
   "pygments_lexer": "ipython3",
   "version": "3.9.2"
  },
  "rise": {
   "scroll": true
  }
 },
 "nbformat": 4,
 "nbformat_minor": 5
}
